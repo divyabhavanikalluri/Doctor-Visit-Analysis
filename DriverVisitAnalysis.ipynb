{
 "cells": [
  {
   "cell_type": "code",
   "execution_count": 1,
   "id": "8ce739d9",
   "metadata": {},
   "outputs": [],
   "source": [
    "import pandas as pd\n",
    "import matplotlib.pyplot as plt\n",
    "import numpy as np\n",
    "import seaborn as sns\n",
    "from sklearn.model_selection import train_test_split\n",
    "from sklearn.linear_model import LinearRegression\n",
    "from sklearn.tree import DecisionTreeRegressor\n",
    "from sklearn.ensemble import RandomForestRegressor\n",
    "from sklearn.metrics import mean_squared_error, r2_score\n",
    "from sklearn.preprocessing import OneHotEncoder"
   ]
  },
  {
   "cell_type": "code",
   "execution_count": 2,
   "id": "7a503c89",
   "metadata": {},
   "outputs": [],
   "source": [
    "dataframe = pd.read_excel(\"C:\\\\Users\\\\shiri\\\\DoctorVisits.xlsx\")"
   ]
  },
  {
   "cell_type": "code",
   "execution_count": 3,
   "id": "91e277fc",
   "metadata": {},
   "outputs": [
    {
     "data": {
      "text/html": [
       "<div>\n",
       "<style scoped>\n",
       "    .dataframe tbody tr th:only-of-type {\n",
       "        vertical-align: middle;\n",
       "    }\n",
       "\n",
       "    .dataframe tbody tr th {\n",
       "        vertical-align: top;\n",
       "    }\n",
       "\n",
       "    .dataframe thead th {\n",
       "        text-align: right;\n",
       "    }\n",
       "</style>\n",
       "<table border=\"1\" class=\"dataframe\">\n",
       "  <thead>\n",
       "    <tr style=\"text-align: right;\">\n",
       "      <th></th>\n",
       "      <th>Unnamed: 0</th>\n",
       "      <th>visits</th>\n",
       "      <th>gender</th>\n",
       "      <th>age</th>\n",
       "      <th>income</th>\n",
       "      <th>illness</th>\n",
       "      <th>reduced</th>\n",
       "      <th>health</th>\n",
       "      <th>private</th>\n",
       "      <th>freepoor</th>\n",
       "      <th>freerepat</th>\n",
       "      <th>nchronic</th>\n",
       "      <th>lchronic</th>\n",
       "    </tr>\n",
       "  </thead>\n",
       "  <tbody>\n",
       "    <tr>\n",
       "      <th>0</th>\n",
       "      <td>1</td>\n",
       "      <td>1</td>\n",
       "      <td>female</td>\n",
       "      <td>0.19</td>\n",
       "      <td>0.55</td>\n",
       "      <td>1</td>\n",
       "      <td>4</td>\n",
       "      <td>1</td>\n",
       "      <td>yes</td>\n",
       "      <td>no</td>\n",
       "      <td>no</td>\n",
       "      <td>no</td>\n",
       "      <td>no</td>\n",
       "    </tr>\n",
       "    <tr>\n",
       "      <th>1</th>\n",
       "      <td>2</td>\n",
       "      <td>1</td>\n",
       "      <td>female</td>\n",
       "      <td>0.19</td>\n",
       "      <td>0.45</td>\n",
       "      <td>1</td>\n",
       "      <td>2</td>\n",
       "      <td>1</td>\n",
       "      <td>yes</td>\n",
       "      <td>no</td>\n",
       "      <td>no</td>\n",
       "      <td>no</td>\n",
       "      <td>no</td>\n",
       "    </tr>\n",
       "    <tr>\n",
       "      <th>2</th>\n",
       "      <td>3</td>\n",
       "      <td>1</td>\n",
       "      <td>male</td>\n",
       "      <td>0.19</td>\n",
       "      <td>0.90</td>\n",
       "      <td>3</td>\n",
       "      <td>0</td>\n",
       "      <td>0</td>\n",
       "      <td>no</td>\n",
       "      <td>no</td>\n",
       "      <td>no</td>\n",
       "      <td>no</td>\n",
       "      <td>no</td>\n",
       "    </tr>\n",
       "    <tr>\n",
       "      <th>3</th>\n",
       "      <td>4</td>\n",
       "      <td>1</td>\n",
       "      <td>male</td>\n",
       "      <td>0.19</td>\n",
       "      <td>0.15</td>\n",
       "      <td>1</td>\n",
       "      <td>0</td>\n",
       "      <td>0</td>\n",
       "      <td>no</td>\n",
       "      <td>no</td>\n",
       "      <td>no</td>\n",
       "      <td>no</td>\n",
       "      <td>no</td>\n",
       "    </tr>\n",
       "    <tr>\n",
       "      <th>4</th>\n",
       "      <td>5</td>\n",
       "      <td>1</td>\n",
       "      <td>male</td>\n",
       "      <td>0.19</td>\n",
       "      <td>0.45</td>\n",
       "      <td>2</td>\n",
       "      <td>5</td>\n",
       "      <td>1</td>\n",
       "      <td>no</td>\n",
       "      <td>no</td>\n",
       "      <td>no</td>\n",
       "      <td>yes</td>\n",
       "      <td>no</td>\n",
       "    </tr>\n",
       "    <tr>\n",
       "      <th>...</th>\n",
       "      <td>...</td>\n",
       "      <td>...</td>\n",
       "      <td>...</td>\n",
       "      <td>...</td>\n",
       "      <td>...</td>\n",
       "      <td>...</td>\n",
       "      <td>...</td>\n",
       "      <td>...</td>\n",
       "      <td>...</td>\n",
       "      <td>...</td>\n",
       "      <td>...</td>\n",
       "      <td>...</td>\n",
       "      <td>...</td>\n",
       "    </tr>\n",
       "    <tr>\n",
       "      <th>5185</th>\n",
       "      <td>5186</td>\n",
       "      <td>0</td>\n",
       "      <td>female</td>\n",
       "      <td>0.22</td>\n",
       "      <td>0.55</td>\n",
       "      <td>0</td>\n",
       "      <td>0</td>\n",
       "      <td>0</td>\n",
       "      <td>no</td>\n",
       "      <td>no</td>\n",
       "      <td>no</td>\n",
       "      <td>no</td>\n",
       "      <td>no</td>\n",
       "    </tr>\n",
       "    <tr>\n",
       "      <th>5186</th>\n",
       "      <td>5187</td>\n",
       "      <td>0</td>\n",
       "      <td>male</td>\n",
       "      <td>0.27</td>\n",
       "      <td>1.30</td>\n",
       "      <td>0</td>\n",
       "      <td>0</td>\n",
       "      <td>1</td>\n",
       "      <td>no</td>\n",
       "      <td>no</td>\n",
       "      <td>no</td>\n",
       "      <td>no</td>\n",
       "      <td>no</td>\n",
       "    </tr>\n",
       "    <tr>\n",
       "      <th>5187</th>\n",
       "      <td>5188</td>\n",
       "      <td>0</td>\n",
       "      <td>female</td>\n",
       "      <td>0.37</td>\n",
       "      <td>0.25</td>\n",
       "      <td>1</td>\n",
       "      <td>0</td>\n",
       "      <td>1</td>\n",
       "      <td>no</td>\n",
       "      <td>no</td>\n",
       "      <td>yes</td>\n",
       "      <td>no</td>\n",
       "      <td>no</td>\n",
       "    </tr>\n",
       "    <tr>\n",
       "      <th>5188</th>\n",
       "      <td>5189</td>\n",
       "      <td>0</td>\n",
       "      <td>female</td>\n",
       "      <td>0.52</td>\n",
       "      <td>0.65</td>\n",
       "      <td>0</td>\n",
       "      <td>0</td>\n",
       "      <td>0</td>\n",
       "      <td>no</td>\n",
       "      <td>no</td>\n",
       "      <td>no</td>\n",
       "      <td>no</td>\n",
       "      <td>no</td>\n",
       "    </tr>\n",
       "    <tr>\n",
       "      <th>5189</th>\n",
       "      <td>5190</td>\n",
       "      <td>0</td>\n",
       "      <td>male</td>\n",
       "      <td>0.72</td>\n",
       "      <td>0.25</td>\n",
       "      <td>0</td>\n",
       "      <td>0</td>\n",
       "      <td>0</td>\n",
       "      <td>no</td>\n",
       "      <td>no</td>\n",
       "      <td>yes</td>\n",
       "      <td>no</td>\n",
       "      <td>no</td>\n",
       "    </tr>\n",
       "  </tbody>\n",
       "</table>\n",
       "<p>5190 rows × 13 columns</p>\n",
       "</div>"
      ],
      "text/plain": [
       "      Unnamed: 0  visits  gender   age  income  illness  reduced  health  \\\n",
       "0              1       1  female  0.19    0.55        1        4       1   \n",
       "1              2       1  female  0.19    0.45        1        2       1   \n",
       "2              3       1    male  0.19    0.90        3        0       0   \n",
       "3              4       1    male  0.19    0.15        1        0       0   \n",
       "4              5       1    male  0.19    0.45        2        5       1   \n",
       "...          ...     ...     ...   ...     ...      ...      ...     ...   \n",
       "5185        5186       0  female  0.22    0.55        0        0       0   \n",
       "5186        5187       0    male  0.27    1.30        0        0       1   \n",
       "5187        5188       0  female  0.37    0.25        1        0       1   \n",
       "5188        5189       0  female  0.52    0.65        0        0       0   \n",
       "5189        5190       0    male  0.72    0.25        0        0       0   \n",
       "\n",
       "     private freepoor freerepat nchronic lchronic  \n",
       "0        yes       no        no       no       no  \n",
       "1        yes       no        no       no       no  \n",
       "2         no       no        no       no       no  \n",
       "3         no       no        no       no       no  \n",
       "4         no       no        no      yes       no  \n",
       "...      ...      ...       ...      ...      ...  \n",
       "5185      no       no        no       no       no  \n",
       "5186      no       no        no       no       no  \n",
       "5187      no       no       yes       no       no  \n",
       "5188      no       no        no       no       no  \n",
       "5189      no       no       yes       no       no  \n",
       "\n",
       "[5190 rows x 13 columns]"
      ]
     },
     "execution_count": 3,
     "metadata": {},
     "output_type": "execute_result"
    }
   ],
   "source": [
    "dataframe"
   ]
  },
  {
   "cell_type": "code",
   "execution_count": 4,
   "id": "6cff47d8",
   "metadata": {},
   "outputs": [
    {
     "data": {
      "text/html": [
       "<div>\n",
       "<style scoped>\n",
       "    .dataframe tbody tr th:only-of-type {\n",
       "        vertical-align: middle;\n",
       "    }\n",
       "\n",
       "    .dataframe tbody tr th {\n",
       "        vertical-align: top;\n",
       "    }\n",
       "\n",
       "    .dataframe thead th {\n",
       "        text-align: right;\n",
       "    }\n",
       "</style>\n",
       "<table border=\"1\" class=\"dataframe\">\n",
       "  <thead>\n",
       "    <tr style=\"text-align: right;\">\n",
       "      <th></th>\n",
       "      <th>Unnamed: 0</th>\n",
       "      <th>visits</th>\n",
       "      <th>gender</th>\n",
       "      <th>age</th>\n",
       "      <th>income</th>\n",
       "      <th>illness</th>\n",
       "      <th>reduced</th>\n",
       "      <th>health</th>\n",
       "      <th>private</th>\n",
       "      <th>freepoor</th>\n",
       "      <th>freerepat</th>\n",
       "      <th>nchronic</th>\n",
       "      <th>lchronic</th>\n",
       "    </tr>\n",
       "  </thead>\n",
       "  <tbody>\n",
       "    <tr>\n",
       "      <th>0</th>\n",
       "      <td>1</td>\n",
       "      <td>1</td>\n",
       "      <td>female</td>\n",
       "      <td>0.19</td>\n",
       "      <td>0.55</td>\n",
       "      <td>1</td>\n",
       "      <td>4</td>\n",
       "      <td>1</td>\n",
       "      <td>yes</td>\n",
       "      <td>no</td>\n",
       "      <td>no</td>\n",
       "      <td>no</td>\n",
       "      <td>no</td>\n",
       "    </tr>\n",
       "    <tr>\n",
       "      <th>1</th>\n",
       "      <td>2</td>\n",
       "      <td>1</td>\n",
       "      <td>female</td>\n",
       "      <td>0.19</td>\n",
       "      <td>0.45</td>\n",
       "      <td>1</td>\n",
       "      <td>2</td>\n",
       "      <td>1</td>\n",
       "      <td>yes</td>\n",
       "      <td>no</td>\n",
       "      <td>no</td>\n",
       "      <td>no</td>\n",
       "      <td>no</td>\n",
       "    </tr>\n",
       "    <tr>\n",
       "      <th>2</th>\n",
       "      <td>3</td>\n",
       "      <td>1</td>\n",
       "      <td>male</td>\n",
       "      <td>0.19</td>\n",
       "      <td>0.90</td>\n",
       "      <td>3</td>\n",
       "      <td>0</td>\n",
       "      <td>0</td>\n",
       "      <td>no</td>\n",
       "      <td>no</td>\n",
       "      <td>no</td>\n",
       "      <td>no</td>\n",
       "      <td>no</td>\n",
       "    </tr>\n",
       "    <tr>\n",
       "      <th>3</th>\n",
       "      <td>4</td>\n",
       "      <td>1</td>\n",
       "      <td>male</td>\n",
       "      <td>0.19</td>\n",
       "      <td>0.15</td>\n",
       "      <td>1</td>\n",
       "      <td>0</td>\n",
       "      <td>0</td>\n",
       "      <td>no</td>\n",
       "      <td>no</td>\n",
       "      <td>no</td>\n",
       "      <td>no</td>\n",
       "      <td>no</td>\n",
       "    </tr>\n",
       "    <tr>\n",
       "      <th>4</th>\n",
       "      <td>5</td>\n",
       "      <td>1</td>\n",
       "      <td>male</td>\n",
       "      <td>0.19</td>\n",
       "      <td>0.45</td>\n",
       "      <td>2</td>\n",
       "      <td>5</td>\n",
       "      <td>1</td>\n",
       "      <td>no</td>\n",
       "      <td>no</td>\n",
       "      <td>no</td>\n",
       "      <td>yes</td>\n",
       "      <td>no</td>\n",
       "    </tr>\n",
       "  </tbody>\n",
       "</table>\n",
       "</div>"
      ],
      "text/plain": [
       "   Unnamed: 0  visits  gender   age  income  illness  reduced  health private  \\\n",
       "0           1       1  female  0.19    0.55        1        4       1     yes   \n",
       "1           2       1  female  0.19    0.45        1        2       1     yes   \n",
       "2           3       1    male  0.19    0.90        3        0       0      no   \n",
       "3           4       1    male  0.19    0.15        1        0       0      no   \n",
       "4           5       1    male  0.19    0.45        2        5       1      no   \n",
       "\n",
       "  freepoor freerepat nchronic lchronic  \n",
       "0       no        no       no       no  \n",
       "1       no        no       no       no  \n",
       "2       no        no       no       no  \n",
       "3       no        no       no       no  \n",
       "4       no        no      yes       no  "
      ]
     },
     "execution_count": 4,
     "metadata": {},
     "output_type": "execute_result"
    }
   ],
   "source": [
    "dataframe.head()"
   ]
  },
  {
   "cell_type": "markdown",
   "id": "4cfd9c28",
   "metadata": {},
   "source": [
    "the first 5 records of the data set\n"
   ]
  },
  {
   "cell_type": "code",
   "execution_count": 5,
   "id": "7f690118",
   "metadata": {},
   "outputs": [
    {
     "data": {
      "text/html": [
       "<div>\n",
       "<style scoped>\n",
       "    .dataframe tbody tr th:only-of-type {\n",
       "        vertical-align: middle;\n",
       "    }\n",
       "\n",
       "    .dataframe tbody tr th {\n",
       "        vertical-align: top;\n",
       "    }\n",
       "\n",
       "    .dataframe thead th {\n",
       "        text-align: right;\n",
       "    }\n",
       "</style>\n",
       "<table border=\"1\" class=\"dataframe\">\n",
       "  <thead>\n",
       "    <tr style=\"text-align: right;\">\n",
       "      <th></th>\n",
       "      <th>Unnamed: 0</th>\n",
       "      <th>visits</th>\n",
       "      <th>gender</th>\n",
       "      <th>age</th>\n",
       "      <th>income</th>\n",
       "      <th>illness</th>\n",
       "      <th>reduced</th>\n",
       "      <th>health</th>\n",
       "      <th>private</th>\n",
       "      <th>freepoor</th>\n",
       "      <th>freerepat</th>\n",
       "      <th>nchronic</th>\n",
       "      <th>lchronic</th>\n",
       "    </tr>\n",
       "  </thead>\n",
       "  <tbody>\n",
       "    <tr>\n",
       "      <th>5185</th>\n",
       "      <td>5186</td>\n",
       "      <td>0</td>\n",
       "      <td>female</td>\n",
       "      <td>0.22</td>\n",
       "      <td>0.55</td>\n",
       "      <td>0</td>\n",
       "      <td>0</td>\n",
       "      <td>0</td>\n",
       "      <td>no</td>\n",
       "      <td>no</td>\n",
       "      <td>no</td>\n",
       "      <td>no</td>\n",
       "      <td>no</td>\n",
       "    </tr>\n",
       "    <tr>\n",
       "      <th>5186</th>\n",
       "      <td>5187</td>\n",
       "      <td>0</td>\n",
       "      <td>male</td>\n",
       "      <td>0.27</td>\n",
       "      <td>1.30</td>\n",
       "      <td>0</td>\n",
       "      <td>0</td>\n",
       "      <td>1</td>\n",
       "      <td>no</td>\n",
       "      <td>no</td>\n",
       "      <td>no</td>\n",
       "      <td>no</td>\n",
       "      <td>no</td>\n",
       "    </tr>\n",
       "    <tr>\n",
       "      <th>5187</th>\n",
       "      <td>5188</td>\n",
       "      <td>0</td>\n",
       "      <td>female</td>\n",
       "      <td>0.37</td>\n",
       "      <td>0.25</td>\n",
       "      <td>1</td>\n",
       "      <td>0</td>\n",
       "      <td>1</td>\n",
       "      <td>no</td>\n",
       "      <td>no</td>\n",
       "      <td>yes</td>\n",
       "      <td>no</td>\n",
       "      <td>no</td>\n",
       "    </tr>\n",
       "    <tr>\n",
       "      <th>5188</th>\n",
       "      <td>5189</td>\n",
       "      <td>0</td>\n",
       "      <td>female</td>\n",
       "      <td>0.52</td>\n",
       "      <td>0.65</td>\n",
       "      <td>0</td>\n",
       "      <td>0</td>\n",
       "      <td>0</td>\n",
       "      <td>no</td>\n",
       "      <td>no</td>\n",
       "      <td>no</td>\n",
       "      <td>no</td>\n",
       "      <td>no</td>\n",
       "    </tr>\n",
       "    <tr>\n",
       "      <th>5189</th>\n",
       "      <td>5190</td>\n",
       "      <td>0</td>\n",
       "      <td>male</td>\n",
       "      <td>0.72</td>\n",
       "      <td>0.25</td>\n",
       "      <td>0</td>\n",
       "      <td>0</td>\n",
       "      <td>0</td>\n",
       "      <td>no</td>\n",
       "      <td>no</td>\n",
       "      <td>yes</td>\n",
       "      <td>no</td>\n",
       "      <td>no</td>\n",
       "    </tr>\n",
       "  </tbody>\n",
       "</table>\n",
       "</div>"
      ],
      "text/plain": [
       "      Unnamed: 0  visits  gender   age  income  illness  reduced  health  \\\n",
       "5185        5186       0  female  0.22    0.55        0        0       0   \n",
       "5186        5187       0    male  0.27    1.30        0        0       1   \n",
       "5187        5188       0  female  0.37    0.25        1        0       1   \n",
       "5188        5189       0  female  0.52    0.65        0        0       0   \n",
       "5189        5190       0    male  0.72    0.25        0        0       0   \n",
       "\n",
       "     private freepoor freerepat nchronic lchronic  \n",
       "5185      no       no        no       no       no  \n",
       "5186      no       no        no       no       no  \n",
       "5187      no       no       yes       no       no  \n",
       "5188      no       no        no       no       no  \n",
       "5189      no       no       yes       no       no  "
      ]
     },
     "execution_count": 5,
     "metadata": {},
     "output_type": "execute_result"
    }
   ],
   "source": [
    "dataframe.tail()"
   ]
  },
  {
   "cell_type": "markdown",
   "id": "1cb50adb",
   "metadata": {
    "scrolled": true
   },
   "source": [
    "the last 5 records of the dataset"
   ]
  },
  {
   "cell_type": "code",
   "execution_count": 6,
   "id": "c57848dd",
   "metadata": {},
   "outputs": [
    {
     "data": {
      "text/plain": [
       "(5190, 13)"
      ]
     },
     "execution_count": 6,
     "metadata": {},
     "output_type": "execute_result"
    }
   ],
   "source": [
    "dataframe.shape\n"
   ]
  },
  {
   "cell_type": "markdown",
   "id": "44c03ff9",
   "metadata": {},
   "source": [
    "There are 5190 rows and 13 columns"
   ]
  },
  {
   "cell_type": "code",
   "execution_count": 7,
   "id": "094175df",
   "metadata": {},
   "outputs": [
    {
     "name": "stdout",
     "output_type": "stream",
     "text": [
      "<class 'pandas.core.frame.DataFrame'>\n",
      "RangeIndex: 5190 entries, 0 to 5189\n",
      "Data columns (total 13 columns):\n",
      " #   Column      Non-Null Count  Dtype  \n",
      "---  ------      --------------  -----  \n",
      " 0   Unnamed: 0  5190 non-null   int64  \n",
      " 1   visits      5190 non-null   int64  \n",
      " 2   gender      5190 non-null   object \n",
      " 3   age         5190 non-null   float64\n",
      " 4   income      5190 non-null   float64\n",
      " 5   illness     5190 non-null   int64  \n",
      " 6   reduced     5190 non-null   int64  \n",
      " 7   health      5190 non-null   int64  \n",
      " 8   private     5190 non-null   object \n",
      " 9   freepoor    5190 non-null   object \n",
      " 10  freerepat   5190 non-null   object \n",
      " 11  nchronic    5190 non-null   object \n",
      " 12  lchronic    5190 non-null   object \n",
      "dtypes: float64(2), int64(5), object(6)\n",
      "memory usage: 527.2+ KB\n"
     ]
    }
   ],
   "source": [
    "dataframe.info()"
   ]
  },
  {
   "cell_type": "markdown",
   "id": "dd5b223d",
   "metadata": {},
   "source": [
    "it shows the information about the entire dataframe including the number of null values , data type of each column , and the memory usage"
   ]
  },
  {
   "cell_type": "markdown",
   "id": "e6f46d92",
   "metadata": {},
   "source": [
    "#  Data Preprocessing"
   ]
  },
  {
   "cell_type": "markdown",
   "id": "a23512dd",
   "metadata": {},
   "source": [
    "\n",
    "Data preprocessing involves cleaning, transforming, and organizing raw data to improve its quality and prepare it for analysis or machine learning tasks. It includes steps such as handling missing values, removing outliers, feature selection, feature engineering, data integration, data encoding, and data splitting."
   ]
  },
  {
   "cell_type": "markdown",
   "id": "7c598e08",
   "metadata": {},
   "source": [
    "### visualize if there are any null values or missing  values"
   ]
  },
  {
   "cell_type": "code",
   "execution_count": 8,
   "id": "deee2aab",
   "metadata": {},
   "outputs": [
    {
     "data": {
      "text/plain": [
       "<Axes: >"
      ]
     },
     "execution_count": 8,
     "metadata": {},
     "output_type": "execute_result"
    },
    {
     "data": {
      "image/png": "[encoded data removed]",
      "text/plain": [
       "<Figure size 640x480 with 1 Axes>"
      ]
     },
     "metadata": {},
     "output_type": "display_data"
    }
   ],
   "source": [
    "sns.heatmap(dataframe.isnull(),cbar= False,cmap ='viridis')"
   ]
  },
  {
   "cell_type": "markdown",
   "id": "f29f95b6",
   "metadata": {},
   "source": [
    "the above dataset does not have any null values or missing data"
   ]
  },
  {
   "cell_type": "code",
   "execution_count": 9,
   "id": "c600efcf",
   "metadata": {},
   "outputs": [
    {
     "data": {
      "text/plain": [
       "0       0.19\n",
       "1       0.19\n",
       "2       0.19\n",
       "3       0.19\n",
       "4       0.19\n",
       "        ... \n",
       "5185    0.22\n",
       "5186    0.27\n",
       "5187    0.37\n",
       "5188    0.52\n",
       "5189    0.72\n",
       "Name: age, Length: 5190, dtype: float64"
      ]
     },
     "execution_count": 9,
     "metadata": {},
     "output_type": "execute_result"
    }
   ],
   "source": [
    "dataframe.age"
   ]
  },
  {
   "cell_type": "markdown",
   "id": "9d3ca5a4",
   "metadata": {
    "collapsed": true
   },
   "source": [
    "In the provided dataset, the 'age' column initially contains age values represented as floating-point numbers. To transform these values into a more appropriate and interpretable format, we convert them to a standard age representation."
   ]
  },
  {
   "cell_type": "code",
   "execution_count": 10,
   "id": "b8c79e06",
   "metadata": {},
   "outputs": [],
   "source": [
    "\n",
    "\n",
    "dataframe['age'] = dataframe['age'] * 100\n"
   ]
  },
  {
   "cell_type": "code",
   "execution_count": 11,
   "id": "72156726",
   "metadata": {},
   "outputs": [
    {
     "data": {
      "text/plain": [
       "0       19.0\n",
       "1       19.0\n",
       "2       19.0\n",
       "3       19.0\n",
       "4       19.0\n",
       "        ... \n",
       "5185    22.0\n",
       "5186    27.0\n",
       "5187    37.0\n",
       "5188    52.0\n",
       "5189    72.0\n",
       "Name: age, Length: 5190, dtype: float64"
      ]
     },
     "execution_count": 11,
     "metadata": {},
     "output_type": "execute_result"
    }
   ],
   "source": [
    "dataframe.age"
   ]
  },
  {
   "cell_type": "code",
   "execution_count": 12,
   "id": "13b13483",
   "metadata": {},
   "outputs": [],
   "source": [
    "dataframe['age'] = dataframe['age'].astype(int)"
   ]
  },
  {
   "cell_type": "code",
   "execution_count": 13,
   "id": "a60dd3e5",
   "metadata": {},
   "outputs": [
    {
     "data": {
      "text/plain": [
       "0       19\n",
       "1       19\n",
       "2       19\n",
       "3       19\n",
       "4       19\n",
       "        ..\n",
       "5185    22\n",
       "5186    27\n",
       "5187    37\n",
       "5188    52\n",
       "5189    72\n",
       "Name: age, Length: 5190, dtype: int32"
      ]
     },
     "execution_count": 13,
     "metadata": {},
     "output_type": "execute_result"
    }
   ],
   "source": [
    "dataframe.age"
   ]
  },
  {
   "cell_type": "code",
   "execution_count": 14,
   "id": "624cb8da",
   "metadata": {},
   "outputs": [
    {
     "data": {
      "text/plain": [
       "array(['no', 'yes'], dtype=object)"
      ]
     },
     "execution_count": 14,
     "metadata": {},
     "output_type": "execute_result"
    }
   ],
   "source": [
    "dataframe['nchronic'].unique()"
   ]
  },
  {
   "cell_type": "code",
   "execution_count": 15,
   "id": "c1109c92",
   "metadata": {},
   "outputs": [
    {
     "data": {
      "text/plain": [
       "array(['no', 'yes'], dtype=object)"
      ]
     },
     "execution_count": 15,
     "metadata": {},
     "output_type": "execute_result"
    }
   ],
   "source": [
    "dataframe['lchronic'].unique()"
   ]
  },
  {
   "cell_type": "code",
   "execution_count": 16,
   "id": "462ec21c",
   "metadata": {},
   "outputs": [],
   "source": [
    "\n",
    "dataframe['private'] = dataframe['private'].replace({'yes': 1, 'no': 0})\n"
   ]
  },
  {
   "cell_type": "code",
   "execution_count": 17,
   "id": "ab80985a",
   "metadata": {},
   "outputs": [
    {
     "data": {
      "text/plain": [
       "0       1\n",
       "1       1\n",
       "2       0\n",
       "3       0\n",
       "4       0\n",
       "       ..\n",
       "5185    0\n",
       "5186    0\n",
       "5187    0\n",
       "5188    0\n",
       "5189    0\n",
       "Name: private, Length: 5190, dtype: int64"
      ]
     },
     "execution_count": 17,
     "metadata": {},
     "output_type": "execute_result"
    }
   ],
   "source": [
    "dataframe.private"
   ]
  },
  {
   "cell_type": "code",
   "execution_count": 18,
   "id": "dd22bf21",
   "metadata": {},
   "outputs": [],
   "source": [
    "\n",
    "dataframe['freepoor'] = dataframe['freepoor'].replace({'yes': 1, 'no': 0})\n"
   ]
  },
  {
   "cell_type": "code",
   "execution_count": 19,
   "id": "6706a23e",
   "metadata": {},
   "outputs": [],
   "source": [
    "dataframe['freerepat'] = dataframe['freerepat'].replace({'yes': 1, 'no': 0})"
   ]
  },
  {
   "cell_type": "code",
   "execution_count": 20,
   "id": "639f1677",
   "metadata": {},
   "outputs": [],
   "source": [
    "dataframe['nchronic'] = dataframe['nchronic'].replace({'yes': 1, 'no': 0})"
   ]
  },
  {
   "cell_type": "code",
   "execution_count": 21,
   "id": "66400ea9",
   "metadata": {},
   "outputs": [],
   "source": [
    "dataframe['lchronic'] = dataframe['lchronic'].replace({'yes': 1, 'no': 0})"
   ]
  },
  {
   "cell_type": "markdown",
   "id": "ab22f13f",
   "metadata": {},
   "source": [
    "the columns nchronic , lchronic , private , freepoor freerepat coints the data in a categorical form i.e 'yes' and 'no' converted this into numerical format which represent yes :1 & no : 0 "
   ]
  },
  {
   "cell_type": "code",
   "execution_count": 22,
   "id": "a907375b",
   "metadata": {},
   "outputs": [
    {
     "data": {
      "text/html": [
       "<div>\n",
       "<style scoped>\n",
       "    .dataframe tbody tr th:only-of-type {\n",
       "        vertical-align: middle;\n",
       "    }\n",
       "\n",
       "    .dataframe tbody tr th {\n",
       "        vertical-align: top;\n",
       "    }\n",
       "\n",
       "    .dataframe thead th {\n",
       "        text-align: right;\n",
       "    }\n",
       "</style>\n",
       "<table border=\"1\" class=\"dataframe\">\n",
       "  <thead>\n",
       "    <tr style=\"text-align: right;\">\n",
       "      <th></th>\n",
       "      <th>Unnamed: 0</th>\n",
       "      <th>visits</th>\n",
       "      <th>gender</th>\n",
       "      <th>age</th>\n",
       "      <th>income</th>\n",
       "      <th>illness</th>\n",
       "      <th>reduced</th>\n",
       "      <th>health</th>\n",
       "      <th>private</th>\n",
       "      <th>freepoor</th>\n",
       "      <th>freerepat</th>\n",
       "      <th>nchronic</th>\n",
       "      <th>lchronic</th>\n",
       "    </tr>\n",
       "  </thead>\n",
       "  <tbody>\n",
       "    <tr>\n",
       "      <th>0</th>\n",
       "      <td>1</td>\n",
       "      <td>1</td>\n",
       "      <td>female</td>\n",
       "      <td>19</td>\n",
       "      <td>0.55</td>\n",
       "      <td>1</td>\n",
       "      <td>4</td>\n",
       "      <td>1</td>\n",
       "      <td>1</td>\n",
       "      <td>0</td>\n",
       "      <td>0</td>\n",
       "      <td>0</td>\n",
       "      <td>0</td>\n",
       "    </tr>\n",
       "    <tr>\n",
       "      <th>1</th>\n",
       "      <td>2</td>\n",
       "      <td>1</td>\n",
       "      <td>female</td>\n",
       "      <td>19</td>\n",
       "      <td>0.45</td>\n",
       "      <td>1</td>\n",
       "      <td>2</td>\n",
       "      <td>1</td>\n",
       "      <td>1</td>\n",
       "      <td>0</td>\n",
       "      <td>0</td>\n",
       "      <td>0</td>\n",
       "      <td>0</td>\n",
       "    </tr>\n",
       "    <tr>\n",
       "      <th>2</th>\n",
       "      <td>3</td>\n",
       "      <td>1</td>\n",
       "      <td>male</td>\n",
       "      <td>19</td>\n",
       "      <td>0.90</td>\n",
       "      <td>3</td>\n",
       "      <td>0</td>\n",
       "      <td>0</td>\n",
       "      <td>0</td>\n",
       "      <td>0</td>\n",
       "      <td>0</td>\n",
       "      <td>0</td>\n",
       "      <td>0</td>\n",
       "    </tr>\n",
       "    <tr>\n",
       "      <th>3</th>\n",
       "      <td>4</td>\n",
       "      <td>1</td>\n",
       "      <td>male</td>\n",
       "      <td>19</td>\n",
       "      <td>0.15</td>\n",
       "      <td>1</td>\n",
       "      <td>0</td>\n",
       "      <td>0</td>\n",
       "      <td>0</td>\n",
       "      <td>0</td>\n",
       "      <td>0</td>\n",
       "      <td>0</td>\n",
       "      <td>0</td>\n",
       "    </tr>\n",
       "    <tr>\n",
       "      <th>4</th>\n",
       "      <td>5</td>\n",
       "      <td>1</td>\n",
       "      <td>male</td>\n",
       "      <td>19</td>\n",
       "      <td>0.45</td>\n",
       "      <td>2</td>\n",
       "      <td>5</td>\n",
       "      <td>1</td>\n",
       "      <td>0</td>\n",
       "      <td>0</td>\n",
       "      <td>0</td>\n",
       "      <td>1</td>\n",
       "      <td>0</td>\n",
       "    </tr>\n",
       "    <tr>\n",
       "      <th>...</th>\n",
       "      <td>...</td>\n",
       "      <td>...</td>\n",
       "      <td>...</td>\n",
       "      <td>...</td>\n",
       "      <td>...</td>\n",
       "      <td>...</td>\n",
       "      <td>...</td>\n",
       "      <td>...</td>\n",
       "      <td>...</td>\n",
       "      <td>...</td>\n",
       "      <td>...</td>\n",
       "      <td>...</td>\n",
       "      <td>...</td>\n",
       "    </tr>\n",
       "    <tr>\n",
       "      <th>5185</th>\n",
       "      <td>5186</td>\n",
       "      <td>0</td>\n",
       "      <td>female</td>\n",
       "      <td>22</td>\n",
       "      <td>0.55</td>\n",
       "      <td>0</td>\n",
       "      <td>0</td>\n",
       "      <td>0</td>\n",
       "      <td>0</td>\n",
       "      <td>0</td>\n",
       "      <td>0</td>\n",
       "      <td>0</td>\n",
       "      <td>0</td>\n",
       "    </tr>\n",
       "    <tr>\n",
       "      <th>5186</th>\n",
       "      <td>5187</td>\n",
       "      <td>0</td>\n",
       "      <td>male</td>\n",
       "      <td>27</td>\n",
       "      <td>1.30</td>\n",
       "      <td>0</td>\n",
       "      <td>0</td>\n",
       "      <td>1</td>\n",
       "      <td>0</td>\n",
       "      <td>0</td>\n",
       "      <td>0</td>\n",
       "      <td>0</td>\n",
       "      <td>0</td>\n",
       "    </tr>\n",
       "    <tr>\n",
       "      <th>5187</th>\n",
       "      <td>5188</td>\n",
       "      <td>0</td>\n",
       "      <td>female</td>\n",
       "      <td>37</td>\n",
       "      <td>0.25</td>\n",
       "      <td>1</td>\n",
       "      <td>0</td>\n",
       "      <td>1</td>\n",
       "      <td>0</td>\n",
       "      <td>0</td>\n",
       "      <td>1</td>\n",
       "      <td>0</td>\n",
       "      <td>0</td>\n",
       "    </tr>\n",
       "    <tr>\n",
       "      <th>5188</th>\n",
       "      <td>5189</td>\n",
       "      <td>0</td>\n",
       "      <td>female</td>\n",
       "      <td>52</td>\n",
       "      <td>0.65</td>\n",
       "      <td>0</td>\n",
       "      <td>0</td>\n",
       "      <td>0</td>\n",
       "      <td>0</td>\n",
       "      <td>0</td>\n",
       "      <td>0</td>\n",
       "      <td>0</td>\n",
       "      <td>0</td>\n",
       "    </tr>\n",
       "    <tr>\n",
       "      <th>5189</th>\n",
       "      <td>5190</td>\n",
       "      <td>0</td>\n",
       "      <td>male</td>\n",
       "      <td>72</td>\n",
       "      <td>0.25</td>\n",
       "      <td>0</td>\n",
       "      <td>0</td>\n",
       "      <td>0</td>\n",
       "      <td>0</td>\n",
       "      <td>0</td>\n",
       "      <td>1</td>\n",
       "      <td>0</td>\n",
       "      <td>0</td>\n",
       "    </tr>\n",
       "  </tbody>\n",
       "</table>\n",
       "<p>5190 rows × 13 columns</p>\n",
       "</div>"
      ],
      "text/plain": [
       "      Unnamed: 0  visits  gender  age  income  illness  reduced  health  \\\n",
       "0              1       1  female   19    0.55        1        4       1   \n",
       "1              2       1  female   19    0.45        1        2       1   \n",
       "2              3       1    male   19    0.90        3        0       0   \n",
       "3              4       1    male   19    0.15        1        0       0   \n",
       "4              5       1    male   19    0.45        2        5       1   \n",
       "...          ...     ...     ...  ...     ...      ...      ...     ...   \n",
       "5185        5186       0  female   22    0.55        0        0       0   \n",
       "5186        5187       0    male   27    1.30        0        0       1   \n",
       "5187        5188       0  female   37    0.25        1        0       1   \n",
       "5188        5189       0  female   52    0.65        0        0       0   \n",
       "5189        5190       0    male   72    0.25        0        0       0   \n",
       "\n",
       "      private  freepoor  freerepat  nchronic  lchronic  \n",
       "0           1         0          0         0         0  \n",
       "1           1         0          0         0         0  \n",
       "2           0         0          0         0         0  \n",
       "3           0         0          0         0         0  \n",
       "4           0         0          0         1         0  \n",
       "...       ...       ...        ...       ...       ...  \n",
       "5185        0         0          0         0         0  \n",
       "5186        0         0          0         0         0  \n",
       "5187        0         0          1         0         0  \n",
       "5188        0         0          0         0         0  \n",
       "5189        0         0          1         0         0  \n",
       "\n",
       "[5190 rows x 13 columns]"
      ]
     },
     "execution_count": 22,
     "metadata": {},
     "output_type": "execute_result"
    }
   ],
   "source": [
    "dataframe"
   ]
  },
  {
   "cell_type": "code",
   "execution_count": 23,
   "id": "ea3b4927",
   "metadata": {},
   "outputs": [
    {
     "data": {
      "text/plain": [
       "0       0.55\n",
       "1       0.45\n",
       "2       0.90\n",
       "3       0.15\n",
       "4       0.45\n",
       "        ... \n",
       "5185    0.55\n",
       "5186    1.30\n",
       "5187    0.25\n",
       "5188    0.65\n",
       "5189    0.25\n",
       "Name: income, Length: 5190, dtype: float64"
      ]
     },
     "execution_count": 23,
     "metadata": {},
     "output_type": "execute_result"
    }
   ],
   "source": [
    "dataframe.income"
   ]
  },
  {
   "cell_type": "markdown",
   "id": "b69ca552",
   "metadata": {},
   "source": [
    "the income column contains the data in the form of floating values convertiong this into an appropriate format "
   ]
  },
  {
   "cell_type": "code",
   "execution_count": 24,
   "id": "18508949",
   "metadata": {},
   "outputs": [],
   "source": [
    "dataframe['income'] = dataframe['income'] * 100000\n"
   ]
  },
  {
   "cell_type": "code",
   "execution_count": 25,
   "id": "71e9f301",
   "metadata": {},
   "outputs": [
    {
     "data": {
      "text/html": [
       "<div>\n",
       "<style scoped>\n",
       "    .dataframe tbody tr th:only-of-type {\n",
       "        vertical-align: middle;\n",
       "    }\n",
       "\n",
       "    .dataframe tbody tr th {\n",
       "        vertical-align: top;\n",
       "    }\n",
       "\n",
       "    .dataframe thead th {\n",
       "        text-align: right;\n",
       "    }\n",
       "</style>\n",
       "<table border=\"1\" class=\"dataframe\">\n",
       "  <thead>\n",
       "    <tr style=\"text-align: right;\">\n",
       "      <th></th>\n",
       "      <th>Unnamed: 0</th>\n",
       "      <th>visits</th>\n",
       "      <th>gender</th>\n",
       "      <th>age</th>\n",
       "      <th>income</th>\n",
       "      <th>illness</th>\n",
       "      <th>reduced</th>\n",
       "      <th>health</th>\n",
       "      <th>private</th>\n",
       "      <th>freepoor</th>\n",
       "      <th>freerepat</th>\n",
       "      <th>nchronic</th>\n",
       "      <th>lchronic</th>\n",
       "    </tr>\n",
       "  </thead>\n",
       "  <tbody>\n",
       "    <tr>\n",
       "      <th>0</th>\n",
       "      <td>1</td>\n",
       "      <td>1</td>\n",
       "      <td>female</td>\n",
       "      <td>19</td>\n",
       "      <td>55000.0</td>\n",
       "      <td>1</td>\n",
       "      <td>4</td>\n",
       "      <td>1</td>\n",
       "      <td>1</td>\n",
       "      <td>0</td>\n",
       "      <td>0</td>\n",
       "      <td>0</td>\n",
       "      <td>0</td>\n",
       "    </tr>\n",
       "    <tr>\n",
       "      <th>1</th>\n",
       "      <td>2</td>\n",
       "      <td>1</td>\n",
       "      <td>female</td>\n",
       "      <td>19</td>\n",
       "      <td>45000.0</td>\n",
       "      <td>1</td>\n",
       "      <td>2</td>\n",
       "      <td>1</td>\n",
       "      <td>1</td>\n",
       "      <td>0</td>\n",
       "      <td>0</td>\n",
       "      <td>0</td>\n",
       "      <td>0</td>\n",
       "    </tr>\n",
       "    <tr>\n",
       "      <th>2</th>\n",
       "      <td>3</td>\n",
       "      <td>1</td>\n",
       "      <td>male</td>\n",
       "      <td>19</td>\n",
       "      <td>90000.0</td>\n",
       "      <td>3</td>\n",
       "      <td>0</td>\n",
       "      <td>0</td>\n",
       "      <td>0</td>\n",
       "      <td>0</td>\n",
       "      <td>0</td>\n",
       "      <td>0</td>\n",
       "      <td>0</td>\n",
       "    </tr>\n",
       "    <tr>\n",
       "      <th>3</th>\n",
       "      <td>4</td>\n",
       "      <td>1</td>\n",
       "      <td>male</td>\n",
       "      <td>19</td>\n",
       "      <td>15000.0</td>\n",
       "      <td>1</td>\n",
       "      <td>0</td>\n",
       "      <td>0</td>\n",
       "      <td>0</td>\n",
       "      <td>0</td>\n",
       "      <td>0</td>\n",
       "      <td>0</td>\n",
       "      <td>0</td>\n",
       "    </tr>\n",
       "    <tr>\n",
       "      <th>4</th>\n",
       "      <td>5</td>\n",
       "      <td>1</td>\n",
       "      <td>male</td>\n",
       "      <td>19</td>\n",
       "      <td>45000.0</td>\n",
       "      <td>2</td>\n",
       "      <td>5</td>\n",
       "      <td>1</td>\n",
       "      <td>0</td>\n",
       "      <td>0</td>\n",
       "      <td>0</td>\n",
       "      <td>1</td>\n",
       "      <td>0</td>\n",
       "    </tr>\n",
       "    <tr>\n",
       "      <th>...</th>\n",
       "      <td>...</td>\n",
       "      <td>...</td>\n",
       "      <td>...</td>\n",
       "      <td>...</td>\n",
       "      <td>...</td>\n",
       "      <td>...</td>\n",
       "      <td>...</td>\n",
       "      <td>...</td>\n",
       "      <td>...</td>\n",
       "      <td>...</td>\n",
       "      <td>...</td>\n",
       "      <td>...</td>\n",
       "      <td>...</td>\n",
       "    </tr>\n",
       "    <tr>\n",
       "      <th>5185</th>\n",
       "      <td>5186</td>\n",
       "      <td>0</td>\n",
       "      <td>female</td>\n",
       "      <td>22</td>\n",
       "      <td>55000.0</td>\n",
       "      <td>0</td>\n",
       "      <td>0</td>\n",
       "      <td>0</td>\n",
       "      <td>0</td>\n",
       "      <td>0</td>\n",
       "      <td>0</td>\n",
       "      <td>0</td>\n",
       "      <td>0</td>\n",
       "    </tr>\n",
       "    <tr>\n",
       "      <th>5186</th>\n",
       "      <td>5187</td>\n",
       "      <td>0</td>\n",
       "      <td>male</td>\n",
       "      <td>27</td>\n",
       "      <td>130000.0</td>\n",
       "      <td>0</td>\n",
       "      <td>0</td>\n",
       "      <td>1</td>\n",
       "      <td>0</td>\n",
       "      <td>0</td>\n",
       "      <td>0</td>\n",
       "      <td>0</td>\n",
       "      <td>0</td>\n",
       "    </tr>\n",
       "    <tr>\n",
       "      <th>5187</th>\n",
       "      <td>5188</td>\n",
       "      <td>0</td>\n",
       "      <td>female</td>\n",
       "      <td>37</td>\n",
       "      <td>25000.0</td>\n",
       "      <td>1</td>\n",
       "      <td>0</td>\n",
       "      <td>1</td>\n",
       "      <td>0</td>\n",
       "      <td>0</td>\n",
       "      <td>1</td>\n",
       "      <td>0</td>\n",
       "      <td>0</td>\n",
       "    </tr>\n",
       "    <tr>\n",
       "      <th>5188</th>\n",
       "      <td>5189</td>\n",
       "      <td>0</td>\n",
       "      <td>female</td>\n",
       "      <td>52</td>\n",
       "      <td>65000.0</td>\n",
       "      <td>0</td>\n",
       "      <td>0</td>\n",
       "      <td>0</td>\n",
       "      <td>0</td>\n",
       "      <td>0</td>\n",
       "      <td>0</td>\n",
       "      <td>0</td>\n",
       "      <td>0</td>\n",
       "    </tr>\n",
       "    <tr>\n",
       "      <th>5189</th>\n",
       "      <td>5190</td>\n",
       "      <td>0</td>\n",
       "      <td>male</td>\n",
       "      <td>72</td>\n",
       "      <td>25000.0</td>\n",
       "      <td>0</td>\n",
       "      <td>0</td>\n",
       "      <td>0</td>\n",
       "      <td>0</td>\n",
       "      <td>0</td>\n",
       "      <td>1</td>\n",
       "      <td>0</td>\n",
       "      <td>0</td>\n",
       "    </tr>\n",
       "  </tbody>\n",
       "</table>\n",
       "<p>5190 rows × 13 columns</p>\n",
       "</div>"
      ],
      "text/plain": [
       "      Unnamed: 0  visits  gender  age    income  illness  reduced  health  \\\n",
       "0              1       1  female   19   55000.0        1        4       1   \n",
       "1              2       1  female   19   45000.0        1        2       1   \n",
       "2              3       1    male   19   90000.0        3        0       0   \n",
       "3              4       1    male   19   15000.0        1        0       0   \n",
       "4              5       1    male   19   45000.0        2        5       1   \n",
       "...          ...     ...     ...  ...       ...      ...      ...     ...   \n",
       "5185        5186       0  female   22   55000.0        0        0       0   \n",
       "5186        5187       0    male   27  130000.0        0        0       1   \n",
       "5187        5188       0  female   37   25000.0        1        0       1   \n",
       "5188        5189       0  female   52   65000.0        0        0       0   \n",
       "5189        5190       0    male   72   25000.0        0        0       0   \n",
       "\n",
       "      private  freepoor  freerepat  nchronic  lchronic  \n",
       "0           1         0          0         0         0  \n",
       "1           1         0          0         0         0  \n",
       "2           0         0          0         0         0  \n",
       "3           0         0          0         0         0  \n",
       "4           0         0          0         1         0  \n",
       "...       ...       ...        ...       ...       ...  \n",
       "5185        0         0          0         0         0  \n",
       "5186        0         0          0         0         0  \n",
       "5187        0         0          1         0         0  \n",
       "5188        0         0          0         0         0  \n",
       "5189        0         0          1         0         0  \n",
       "\n",
       "[5190 rows x 13 columns]"
      ]
     },
     "execution_count": 25,
     "metadata": {},
     "output_type": "execute_result"
    }
   ],
   "source": [
    "dataframe"
   ]
  },
  {
   "cell_type": "markdown",
   "id": "607781a2",
   "metadata": {},
   "source": [
    " 'Unnamed: 0' column does not  provide any  meaningful information so , removing that column"
   ]
  },
  {
   "cell_type": "code",
   "execution_count": 26,
   "id": "399f1d09",
   "metadata": {},
   "outputs": [],
   "source": [
    "dataframe.drop('Unnamed: 0', axis=1, inplace=True)"
   ]
  },
  {
   "cell_type": "code",
   "execution_count": 27,
   "id": "616dd4ec",
   "metadata": {},
   "outputs": [
    {
     "data": {
      "text/html": [
       "<div>\n",
       "<style scoped>\n",
       "    .dataframe tbody tr th:only-of-type {\n",
       "        vertical-align: middle;\n",
       "    }\n",
       "\n",
       "    .dataframe tbody tr th {\n",
       "        vertical-align: top;\n",
       "    }\n",
       "\n",
       "    .dataframe thead th {\n",
       "        text-align: right;\n",
       "    }\n",
       "</style>\n",
       "<table border=\"1\" class=\"dataframe\">\n",
       "  <thead>\n",
       "    <tr style=\"text-align: right;\">\n",
       "      <th></th>\n",
       "      <th>visits</th>\n",
       "      <th>gender</th>\n",
       "      <th>age</th>\n",
       "      <th>income</th>\n",
       "      <th>illness</th>\n",
       "      <th>reduced</th>\n",
       "      <th>health</th>\n",
       "      <th>private</th>\n",
       "      <th>freepoor</th>\n",
       "      <th>freerepat</th>\n",
       "      <th>nchronic</th>\n",
       "      <th>lchronic</th>\n",
       "    </tr>\n",
       "  </thead>\n",
       "  <tbody>\n",
       "    <tr>\n",
       "      <th>0</th>\n",
       "      <td>1</td>\n",
       "      <td>female</td>\n",
       "      <td>19</td>\n",
       "      <td>55000.0</td>\n",
       "      <td>1</td>\n",
       "      <td>4</td>\n",
       "      <td>1</td>\n",
       "      <td>1</td>\n",
       "      <td>0</td>\n",
       "      <td>0</td>\n",
       "      <td>0</td>\n",
       "      <td>0</td>\n",
       "    </tr>\n",
       "    <tr>\n",
       "      <th>1</th>\n",
       "      <td>1</td>\n",
       "      <td>female</td>\n",
       "      <td>19</td>\n",
       "      <td>45000.0</td>\n",
       "      <td>1</td>\n",
       "      <td>2</td>\n",
       "      <td>1</td>\n",
       "      <td>1</td>\n",
       "      <td>0</td>\n",
       "      <td>0</td>\n",
       "      <td>0</td>\n",
       "      <td>0</td>\n",
       "    </tr>\n",
       "    <tr>\n",
       "      <th>2</th>\n",
       "      <td>1</td>\n",
       "      <td>male</td>\n",
       "      <td>19</td>\n",
       "      <td>90000.0</td>\n",
       "      <td>3</td>\n",
       "      <td>0</td>\n",
       "      <td>0</td>\n",
       "      <td>0</td>\n",
       "      <td>0</td>\n",
       "      <td>0</td>\n",
       "      <td>0</td>\n",
       "      <td>0</td>\n",
       "    </tr>\n",
       "    <tr>\n",
       "      <th>3</th>\n",
       "      <td>1</td>\n",
       "      <td>male</td>\n",
       "      <td>19</td>\n",
       "      <td>15000.0</td>\n",
       "      <td>1</td>\n",
       "      <td>0</td>\n",
       "      <td>0</td>\n",
       "      <td>0</td>\n",
       "      <td>0</td>\n",
       "      <td>0</td>\n",
       "      <td>0</td>\n",
       "      <td>0</td>\n",
       "    </tr>\n",
       "    <tr>\n",
       "      <th>4</th>\n",
       "      <td>1</td>\n",
       "      <td>male</td>\n",
       "      <td>19</td>\n",
       "      <td>45000.0</td>\n",
       "      <td>2</td>\n",
       "      <td>5</td>\n",
       "      <td>1</td>\n",
       "      <td>0</td>\n",
       "      <td>0</td>\n",
       "      <td>0</td>\n",
       "      <td>1</td>\n",
       "      <td>0</td>\n",
       "    </tr>\n",
       "    <tr>\n",
       "      <th>...</th>\n",
       "      <td>...</td>\n",
       "      <td>...</td>\n",
       "      <td>...</td>\n",
       "      <td>...</td>\n",
       "      <td>...</td>\n",
       "      <td>...</td>\n",
       "      <td>...</td>\n",
       "      <td>...</td>\n",
       "      <td>...</td>\n",
       "      <td>...</td>\n",
       "      <td>...</td>\n",
       "      <td>...</td>\n",
       "    </tr>\n",
       "    <tr>\n",
       "      <th>5185</th>\n",
       "      <td>0</td>\n",
       "      <td>female</td>\n",
       "      <td>22</td>\n",
       "      <td>55000.0</td>\n",
       "      <td>0</td>\n",
       "      <td>0</td>\n",
       "      <td>0</td>\n",
       "      <td>0</td>\n",
       "      <td>0</td>\n",
       "      <td>0</td>\n",
       "      <td>0</td>\n",
       "      <td>0</td>\n",
       "    </tr>\n",
       "    <tr>\n",
       "      <th>5186</th>\n",
       "      <td>0</td>\n",
       "      <td>male</td>\n",
       "      <td>27</td>\n",
       "      <td>130000.0</td>\n",
       "      <td>0</td>\n",
       "      <td>0</td>\n",
       "      <td>1</td>\n",
       "      <td>0</td>\n",
       "      <td>0</td>\n",
       "      <td>0</td>\n",
       "      <td>0</td>\n",
       "      <td>0</td>\n",
       "    </tr>\n",
       "    <tr>\n",
       "      <th>5187</th>\n",
       "      <td>0</td>\n",
       "      <td>female</td>\n",
       "      <td>37</td>\n",
       "      <td>25000.0</td>\n",
       "      <td>1</td>\n",
       "      <td>0</td>\n",
       "      <td>1</td>\n",
       "      <td>0</td>\n",
       "      <td>0</td>\n",
       "      <td>1</td>\n",
       "      <td>0</td>\n",
       "      <td>0</td>\n",
       "    </tr>\n",
       "    <tr>\n",
       "      <th>5188</th>\n",
       "      <td>0</td>\n",
       "      <td>female</td>\n",
       "      <td>52</td>\n",
       "      <td>65000.0</td>\n",
       "      <td>0</td>\n",
       "      <td>0</td>\n",
       "      <td>0</td>\n",
       "      <td>0</td>\n",
       "      <td>0</td>\n",
       "      <td>0</td>\n",
       "      <td>0</td>\n",
       "      <td>0</td>\n",
       "    </tr>\n",
       "    <tr>\n",
       "      <th>5189</th>\n",
       "      <td>0</td>\n",
       "      <td>male</td>\n",
       "      <td>72</td>\n",
       "      <td>25000.0</td>\n",
       "      <td>0</td>\n",
       "      <td>0</td>\n",
       "      <td>0</td>\n",
       "      <td>0</td>\n",
       "      <td>0</td>\n",
       "      <td>1</td>\n",
       "      <td>0</td>\n",
       "      <td>0</td>\n",
       "    </tr>\n",
       "  </tbody>\n",
       "</table>\n",
       "<p>5190 rows × 12 columns</p>\n",
       "</div>"
      ],
      "text/plain": [
       "      visits  gender  age    income  illness  reduced  health  private  \\\n",
       "0          1  female   19   55000.0        1        4       1        1   \n",
       "1          1  female   19   45000.0        1        2       1        1   \n",
       "2          1    male   19   90000.0        3        0       0        0   \n",
       "3          1    male   19   15000.0        1        0       0        0   \n",
       "4          1    male   19   45000.0        2        5       1        0   \n",
       "...      ...     ...  ...       ...      ...      ...     ...      ...   \n",
       "5185       0  female   22   55000.0        0        0       0        0   \n",
       "5186       0    male   27  130000.0        0        0       1        0   \n",
       "5187       0  female   37   25000.0        1        0       1        0   \n",
       "5188       0  female   52   65000.0        0        0       0        0   \n",
       "5189       0    male   72   25000.0        0        0       0        0   \n",
       "\n",
       "      freepoor  freerepat  nchronic  lchronic  \n",
       "0            0          0         0         0  \n",
       "1            0          0         0         0  \n",
       "2            0          0         0         0  \n",
       "3            0          0         0         0  \n",
       "4            0          0         1         0  \n",
       "...        ...        ...       ...       ...  \n",
       "5185         0          0         0         0  \n",
       "5186         0          0         0         0  \n",
       "5187         0          1         0         0  \n",
       "5188         0          0         0         0  \n",
       "5189         0          1         0         0  \n",
       "\n",
       "[5190 rows x 12 columns]"
      ]
     },
     "execution_count": 27,
     "metadata": {},
     "output_type": "execute_result"
    }
   ],
   "source": [
    "dataframe"
   ]
  },
  {
   "cell_type": "markdown",
   "id": "1bcd5a06",
   "metadata": {},
   "source": [
    "# STATISTICAL ANALYSIS"
   ]
  },
  {
   "cell_type": "markdown",
   "id": "1c25f8b5",
   "metadata": {},
   "source": [
    "### Find out the total no: of people based on their count of illeness"
   ]
  },
  {
   "cell_type": "code",
   "execution_count": 28,
   "id": "30aba8a4",
   "metadata": {},
   "outputs": [
    {
     "data": {
      "text/plain": [
       "1    1638\n",
       "0    1554\n",
       "2     946\n",
       "3     542\n",
       "4     274\n",
       "5     236\n",
       "Name: illness, dtype: int64"
      ]
     },
     "execution_count": 28,
     "metadata": {},
     "output_type": "execute_result"
    }
   ],
   "source": [
    "dataframe[\"illness\"].value_counts()"
   ]
  },
  {
   "cell_type": "markdown",
   "id": "9785503d",
   "metadata": {},
   "source": [
    "this indicates that 'illness' column has 6 different values [1,0,2,3,4,5] and their number of occurences in the dataset"
   ]
  },
  {
   "cell_type": "code",
   "execution_count": 29,
   "id": "7ca79f16",
   "metadata": {},
   "outputs": [
    {
     "data": {
      "text/plain": [
       "female    2702\n",
       "male      2488\n",
       "Name: gender, dtype: int64"
      ]
     },
     "execution_count": 29,
     "metadata": {},
     "output_type": "execute_result"
    }
   ],
   "source": [
    "dataframe['gender'].value_counts()"
   ]
  },
  {
   "cell_type": "code",
   "execution_count": 30,
   "id": "3aa9edeb",
   "metadata": {},
   "outputs": [
    {
     "name": "stdout",
     "output_type": "stream",
     "text": [
      "The average number of doctor visits in the past year is: 0.3017341040462428\n"
     ]
    }
   ],
   "source": [
    "print(\"The average number of doctor visits in the past year is:\", dataframe['visits'].mean())\n"
   ]
  },
  {
   "cell_type": "code",
   "execution_count": 31,
   "id": "2c64e528",
   "metadata": {},
   "outputs": [
    {
     "name": "stdout",
     "output_type": "stream",
     "text": [
      "The most common gender is: female\n"
     ]
    }
   ],
   "source": [
    "print(\"The most common gender is:\", dataframe['gender'].mode()[0])\n"
   ]
  },
  {
   "cell_type": "code",
   "execution_count": 32,
   "id": "2386812a",
   "metadata": {},
   "outputs": [
    {
     "name": "stdout",
     "output_type": "stream",
     "text": [
      "The most common age group is: 20-29\n"
     ]
    }
   ],
   "source": [
    "most_common_age_group = dataframe['age'].apply(lambda x: f\"{x//10*10}-{x//10*10+9}\").mode()[0]\n",
    "print(\"The most common age group is:\", most_common_age_group)\n"
   ]
  },
  {
   "cell_type": "code",
   "execution_count": 33,
   "id": "f1880d8b",
   "metadata": {
    "scrolled": true
   },
   "outputs": [
    {
     "name": "stdout",
     "output_type": "stream",
     "text": [
      "The most common longest duration of any chronic illness is: 0\n"
     ]
    }
   ],
   "source": [
    "print(\"The most common longest duration of any chronic illness is:\", dataframe['lchronic'].mode()[0])\n"
   ]
  },
  {
   "cell_type": "code",
   "execution_count": 34,
   "id": "bedc8a30",
   "metadata": {},
   "outputs": [
    {
     "data": {
      "text/html": [
       "<div>\n",
       "<style scoped>\n",
       "    .dataframe tbody tr th:only-of-type {\n",
       "        vertical-align: middle;\n",
       "    }\n",
       "\n",
       "    .dataframe tbody tr th {\n",
       "        vertical-align: top;\n",
       "    }\n",
       "\n",
       "    .dataframe thead th {\n",
       "        text-align: right;\n",
       "    }\n",
       "</style>\n",
       "<table border=\"1\" class=\"dataframe\">\n",
       "  <thead>\n",
       "    <tr style=\"text-align: right;\">\n",
       "      <th></th>\n",
       "      <th></th>\n",
       "      <th>visits</th>\n",
       "      <th>age</th>\n",
       "      <th>income</th>\n",
       "      <th>illness</th>\n",
       "      <th>health</th>\n",
       "      <th>private</th>\n",
       "      <th>freepoor</th>\n",
       "      <th>freerepat</th>\n",
       "      <th>nchronic</th>\n",
       "      <th>lchronic</th>\n",
       "    </tr>\n",
       "    <tr>\n",
       "      <th>gender</th>\n",
       "      <th>reduced</th>\n",
       "      <th></th>\n",
       "      <th></th>\n",
       "      <th></th>\n",
       "      <th></th>\n",
       "      <th></th>\n",
       "      <th></th>\n",
       "      <th></th>\n",
       "      <th></th>\n",
       "      <th></th>\n",
       "      <th></th>\n",
       "    </tr>\n",
       "  </thead>\n",
       "  <tbody>\n",
       "    <tr>\n",
       "      <th rowspan=\"14\" valign=\"top\">female</th>\n",
       "      <th>0</th>\n",
       "      <td>0.229322</td>\n",
       "      <td>46.505908</td>\n",
       "      <td>48273.522976</td>\n",
       "      <td>1.462144</td>\n",
       "      <td>1.115098</td>\n",
       "      <td>0.472210</td>\n",
       "      <td>0.030635</td>\n",
       "      <td>0.303282</td>\n",
       "      <td>0.475711</td>\n",
       "      <td>0.098468</td>\n",
       "    </tr>\n",
       "    <tr>\n",
       "      <th>1</th>\n",
       "      <td>0.400000</td>\n",
       "      <td>32.526316</td>\n",
       "      <td>54210.526316</td>\n",
       "      <td>2.242105</td>\n",
       "      <td>1.610526</td>\n",
       "      <td>0.505263</td>\n",
       "      <td>0.063158</td>\n",
       "      <td>0.126316</td>\n",
       "      <td>0.568421</td>\n",
       "      <td>0.168421</td>\n",
       "    </tr>\n",
       "    <tr>\n",
       "      <th>2</th>\n",
       "      <td>0.672727</td>\n",
       "      <td>39.072727</td>\n",
       "      <td>56018.181818</td>\n",
       "      <td>2.236364</td>\n",
       "      <td>1.781818</td>\n",
       "      <td>0.545455</td>\n",
       "      <td>0.036364</td>\n",
       "      <td>0.200000</td>\n",
       "      <td>0.527273</td>\n",
       "      <td>0.181818</td>\n",
       "    </tr>\n",
       "    <tr>\n",
       "      <th>3</th>\n",
       "      <td>1.333333</td>\n",
       "      <td>40.288889</td>\n",
       "      <td>51600.000000</td>\n",
       "      <td>2.733333</td>\n",
       "      <td>1.733333</td>\n",
       "      <td>0.577778</td>\n",
       "      <td>0.066667</td>\n",
       "      <td>0.244444</td>\n",
       "      <td>0.422222</td>\n",
       "      <td>0.222222</td>\n",
       "    </tr>\n",
       "    <tr>\n",
       "      <th>4</th>\n",
       "      <td>0.851852</td>\n",
       "      <td>45.740741</td>\n",
       "      <td>46666.666667</td>\n",
       "      <td>2.222222</td>\n",
       "      <td>2.074074</td>\n",
       "      <td>0.555556</td>\n",
       "      <td>0.000000</td>\n",
       "      <td>0.259259</td>\n",
       "      <td>0.333333</td>\n",
       "      <td>0.222222</td>\n",
       "    </tr>\n",
       "    <tr>\n",
       "      <th>5</th>\n",
       "      <td>1.444444</td>\n",
       "      <td>40.111111</td>\n",
       "      <td>61444.444444</td>\n",
       "      <td>2.222222</td>\n",
       "      <td>2.500000</td>\n",
       "      <td>0.444444</td>\n",
       "      <td>0.111111</td>\n",
       "      <td>0.166667</td>\n",
       "      <td>0.555556</td>\n",
       "      <td>0.166667</td>\n",
       "    </tr>\n",
       "    <tr>\n",
       "      <th>6</th>\n",
       "      <td>1.363636</td>\n",
       "      <td>42.454545</td>\n",
       "      <td>62272.727273</td>\n",
       "      <td>2.363636</td>\n",
       "      <td>1.363636</td>\n",
       "      <td>0.181818</td>\n",
       "      <td>0.000000</td>\n",
       "      <td>0.454545</td>\n",
       "      <td>0.363636</td>\n",
       "      <td>0.272727</td>\n",
       "    </tr>\n",
       "    <tr>\n",
       "      <th>7</th>\n",
       "      <td>1.384615</td>\n",
       "      <td>43.538462</td>\n",
       "      <td>47346.153846</td>\n",
       "      <td>2.653846</td>\n",
       "      <td>2.230769</td>\n",
       "      <td>0.538462</td>\n",
       "      <td>0.000000</td>\n",
       "      <td>0.230769</td>\n",
       "      <td>0.423077</td>\n",
       "      <td>0.269231</td>\n",
       "    </tr>\n",
       "    <tr>\n",
       "      <th>8</th>\n",
       "      <td>1.090909</td>\n",
       "      <td>47.000000</td>\n",
       "      <td>40454.545455</td>\n",
       "      <td>2.181818</td>\n",
       "      <td>4.000000</td>\n",
       "      <td>0.181818</td>\n",
       "      <td>0.000000</td>\n",
       "      <td>0.454545</td>\n",
       "      <td>0.363636</td>\n",
       "      <td>0.454545</td>\n",
       "    </tr>\n",
       "    <tr>\n",
       "      <th>9</th>\n",
       "      <td>0.500000</td>\n",
       "      <td>56.000000</td>\n",
       "      <td>82500.000000</td>\n",
       "      <td>3.000000</td>\n",
       "      <td>1.000000</td>\n",
       "      <td>0.500000</td>\n",
       "      <td>0.000000</td>\n",
       "      <td>0.500000</td>\n",
       "      <td>1.000000</td>\n",
       "      <td>0.000000</td>\n",
       "    </tr>\n",
       "    <tr>\n",
       "      <th>10</th>\n",
       "      <td>2.142857</td>\n",
       "      <td>51.142857</td>\n",
       "      <td>42142.857143</td>\n",
       "      <td>2.571429</td>\n",
       "      <td>2.000000</td>\n",
       "      <td>0.428571</td>\n",
       "      <td>0.000000</td>\n",
       "      <td>0.428571</td>\n",
       "      <td>0.428571</td>\n",
       "      <td>0.285714</td>\n",
       "    </tr>\n",
       "    <tr>\n",
       "      <th>12</th>\n",
       "      <td>2.000000</td>\n",
       "      <td>72.000000</td>\n",
       "      <td>25000.000000</td>\n",
       "      <td>3.500000</td>\n",
       "      <td>5.500000</td>\n",
       "      <td>1.000000</td>\n",
       "      <td>0.000000</td>\n",
       "      <td>0.000000</td>\n",
       "      <td>0.500000</td>\n",
       "      <td>0.500000</td>\n",
       "    </tr>\n",
       "    <tr>\n",
       "      <th>13</th>\n",
       "      <td>4.000000</td>\n",
       "      <td>72.000000</td>\n",
       "      <td>30000.000000</td>\n",
       "      <td>4.500000</td>\n",
       "      <td>3.500000</td>\n",
       "      <td>1.000000</td>\n",
       "      <td>0.000000</td>\n",
       "      <td>0.000000</td>\n",
       "      <td>0.000000</td>\n",
       "      <td>1.000000</td>\n",
       "    </tr>\n",
       "    <tr>\n",
       "      <th>14</th>\n",
       "      <td>1.543103</td>\n",
       "      <td>55.112069</td>\n",
       "      <td>42758.620690</td>\n",
       "      <td>2.534483</td>\n",
       "      <td>4.112069</td>\n",
       "      <td>0.318966</td>\n",
       "      <td>0.008621</td>\n",
       "      <td>0.517241</td>\n",
       "      <td>0.448276</td>\n",
       "      <td>0.431034</td>\n",
       "    </tr>\n",
       "    <tr>\n",
       "      <th rowspan=\"15\" valign=\"top\">male</th>\n",
       "      <th>0</th>\n",
       "      <td>0.136007</td>\n",
       "      <td>34.437990</td>\n",
       "      <td>69439.834025</td>\n",
       "      <td>1.099585</td>\n",
       "      <td>0.924850</td>\n",
       "      <td>0.409405</td>\n",
       "      <td>0.054864</td>\n",
       "      <td>0.110650</td>\n",
       "      <td>0.321807</td>\n",
       "      <td>0.088981</td>\n",
       "    </tr>\n",
       "    <tr>\n",
       "      <th>1</th>\n",
       "      <td>0.304878</td>\n",
       "      <td>28.609756</td>\n",
       "      <td>67634.146341</td>\n",
       "      <td>1.743902</td>\n",
       "      <td>1.256098</td>\n",
       "      <td>0.524390</td>\n",
       "      <td>0.036585</td>\n",
       "      <td>0.036585</td>\n",
       "      <td>0.378049</td>\n",
       "      <td>0.097561</td>\n",
       "    </tr>\n",
       "    <tr>\n",
       "      <th>2</th>\n",
       "      <td>0.471698</td>\n",
       "      <td>34.264151</td>\n",
       "      <td>65301.886792</td>\n",
       "      <td>2.358491</td>\n",
       "      <td>1.547170</td>\n",
       "      <td>0.433962</td>\n",
       "      <td>0.056604</td>\n",
       "      <td>0.037736</td>\n",
       "      <td>0.301887</td>\n",
       "      <td>0.245283</td>\n",
       "    </tr>\n",
       "    <tr>\n",
       "      <th>3</th>\n",
       "      <td>0.724138</td>\n",
       "      <td>33.413793</td>\n",
       "      <td>74137.931034</td>\n",
       "      <td>2.137931</td>\n",
       "      <td>1.689655</td>\n",
       "      <td>0.413793</td>\n",
       "      <td>0.103448</td>\n",
       "      <td>0.068966</td>\n",
       "      <td>0.379310</td>\n",
       "      <td>0.137931</td>\n",
       "    </tr>\n",
       "    <tr>\n",
       "      <th>4</th>\n",
       "      <td>0.722222</td>\n",
       "      <td>30.833333</td>\n",
       "      <td>86944.444444</td>\n",
       "      <td>2.055556</td>\n",
       "      <td>2.000000</td>\n",
       "      <td>0.500000</td>\n",
       "      <td>0.000000</td>\n",
       "      <td>0.000000</td>\n",
       "      <td>0.222222</td>\n",
       "      <td>0.166667</td>\n",
       "    </tr>\n",
       "    <tr>\n",
       "      <th>5</th>\n",
       "      <td>1.136364</td>\n",
       "      <td>33.181818</td>\n",
       "      <td>57045.454545</td>\n",
       "      <td>2.272727</td>\n",
       "      <td>2.818182</td>\n",
       "      <td>0.500000</td>\n",
       "      <td>0.090909</td>\n",
       "      <td>0.090909</td>\n",
       "      <td>0.318182</td>\n",
       "      <td>0.181818</td>\n",
       "    </tr>\n",
       "    <tr>\n",
       "      <th>6</th>\n",
       "      <td>0.833333</td>\n",
       "      <td>34.000000</td>\n",
       "      <td>59166.666667</td>\n",
       "      <td>2.500000</td>\n",
       "      <td>2.000000</td>\n",
       "      <td>0.333333</td>\n",
       "      <td>0.000000</td>\n",
       "      <td>0.000000</td>\n",
       "      <td>0.500000</td>\n",
       "      <td>0.333333</td>\n",
       "    </tr>\n",
       "    <tr>\n",
       "      <th>7</th>\n",
       "      <td>0.750000</td>\n",
       "      <td>31.416667</td>\n",
       "      <td>65500.000000</td>\n",
       "      <td>2.583333</td>\n",
       "      <td>4.333333</td>\n",
       "      <td>0.416667</td>\n",
       "      <td>0.083333</td>\n",
       "      <td>0.083333</td>\n",
       "      <td>0.333333</td>\n",
       "      <td>0.250000</td>\n",
       "    </tr>\n",
       "    <tr>\n",
       "      <th>8</th>\n",
       "      <td>1.333333</td>\n",
       "      <td>36.333333</td>\n",
       "      <td>83333.333333</td>\n",
       "      <td>2.666667</td>\n",
       "      <td>2.000000</td>\n",
       "      <td>0.333333</td>\n",
       "      <td>0.000000</td>\n",
       "      <td>0.166667</td>\n",
       "      <td>0.333333</td>\n",
       "      <td>0.000000</td>\n",
       "    </tr>\n",
       "    <tr>\n",
       "      <th>9</th>\n",
       "      <td>2.200000</td>\n",
       "      <td>30.800000</td>\n",
       "      <td>39200.000000</td>\n",
       "      <td>2.400000</td>\n",
       "      <td>2.000000</td>\n",
       "      <td>0.400000</td>\n",
       "      <td>0.200000</td>\n",
       "      <td>0.000000</td>\n",
       "      <td>0.400000</td>\n",
       "      <td>0.200000</td>\n",
       "    </tr>\n",
       "    <tr>\n",
       "      <th>10</th>\n",
       "      <td>1.800000</td>\n",
       "      <td>47.800000</td>\n",
       "      <td>59000.000000</td>\n",
       "      <td>2.600000</td>\n",
       "      <td>4.600000</td>\n",
       "      <td>0.000000</td>\n",
       "      <td>0.000000</td>\n",
       "      <td>0.400000</td>\n",
       "      <td>0.800000</td>\n",
       "      <td>0.000000</td>\n",
       "    </tr>\n",
       "    <tr>\n",
       "      <th>11</th>\n",
       "      <td>5.000000</td>\n",
       "      <td>32.000000</td>\n",
       "      <td>100000.000000</td>\n",
       "      <td>1.500000</td>\n",
       "      <td>0.500000</td>\n",
       "      <td>0.500000</td>\n",
       "      <td>0.000000</td>\n",
       "      <td>0.000000</td>\n",
       "      <td>0.000000</td>\n",
       "      <td>0.500000</td>\n",
       "    </tr>\n",
       "    <tr>\n",
       "      <th>12</th>\n",
       "      <td>2.000000</td>\n",
       "      <td>36.750000</td>\n",
       "      <td>51500.000000</td>\n",
       "      <td>1.500000</td>\n",
       "      <td>1.000000</td>\n",
       "      <td>0.250000</td>\n",
       "      <td>0.000000</td>\n",
       "      <td>0.000000</td>\n",
       "      <td>0.250000</td>\n",
       "      <td>0.000000</td>\n",
       "    </tr>\n",
       "    <tr>\n",
       "      <th>13</th>\n",
       "      <td>4.000000</td>\n",
       "      <td>51.000000</td>\n",
       "      <td>35000.000000</td>\n",
       "      <td>3.333333</td>\n",
       "      <td>2.333333</td>\n",
       "      <td>0.333333</td>\n",
       "      <td>0.000000</td>\n",
       "      <td>0.333333</td>\n",
       "      <td>1.000000</td>\n",
       "      <td>0.000000</td>\n",
       "    </tr>\n",
       "    <tr>\n",
       "      <th>14</th>\n",
       "      <td>1.555556</td>\n",
       "      <td>47.652778</td>\n",
       "      <td>59861.111111</td>\n",
       "      <td>2.375000</td>\n",
       "      <td>3.527778</td>\n",
       "      <td>0.402778</td>\n",
       "      <td>0.083333</td>\n",
       "      <td>0.277778</td>\n",
       "      <td>0.291667</td>\n",
       "      <td>0.458333</td>\n",
       "    </tr>\n",
       "  </tbody>\n",
       "</table>\n",
       "</div>"
      ],
      "text/plain": [
       "                  visits        age         income   illness    health  \\\n",
       "gender reduced                                                           \n",
       "female 0        0.229322  46.505908   48273.522976  1.462144  1.115098   \n",
       "       1        0.400000  32.526316   54210.526316  2.242105  1.610526   \n",
       "       2        0.672727  39.072727   56018.181818  2.236364  1.781818   \n",
       "       3        1.333333  40.288889   51600.000000  2.733333  1.733333   \n",
       "       4        0.851852  45.740741   46666.666667  2.222222  2.074074   \n",
       "       5        1.444444  40.111111   61444.444444  2.222222  2.500000   \n",
       "       6        1.363636  42.454545   62272.727273  2.363636  1.363636   \n",
       "       7        1.384615  43.538462   47346.153846  2.653846  2.230769   \n",
       "       8        1.090909  47.000000   40454.545455  2.181818  4.000000   \n",
       "       9        0.500000  56.000000   82500.000000  3.000000  1.000000   \n",
       "       10       2.142857  51.142857   42142.857143  2.571429  2.000000   \n",
       "       12       2.000000  72.000000   25000.000000  3.500000  5.500000   \n",
       "       13       4.000000  72.000000   30000.000000  4.500000  3.500000   \n",
       "       14       1.543103  55.112069   42758.620690  2.534483  4.112069   \n",
       "male   0        0.136007  34.437990   69439.834025  1.099585  0.924850   \n",
       "       1        0.304878  28.609756   67634.146341  1.743902  1.256098   \n",
       "       2        0.471698  34.264151   65301.886792  2.358491  1.547170   \n",
       "       3        0.724138  33.413793   74137.931034  2.137931  1.689655   \n",
       "       4        0.722222  30.833333   86944.444444  2.055556  2.000000   \n",
       "       5        1.136364  33.181818   57045.454545  2.272727  2.818182   \n",
       "       6        0.833333  34.000000   59166.666667  2.500000  2.000000   \n",
       "       7        0.750000  31.416667   65500.000000  2.583333  4.333333   \n",
       "       8        1.333333  36.333333   83333.333333  2.666667  2.000000   \n",
       "       9        2.200000  30.800000   39200.000000  2.400000  2.000000   \n",
       "       10       1.800000  47.800000   59000.000000  2.600000  4.600000   \n",
       "       11       5.000000  32.000000  100000.000000  1.500000  0.500000   \n",
       "       12       2.000000  36.750000   51500.000000  1.500000  1.000000   \n",
       "       13       4.000000  51.000000   35000.000000  3.333333  2.333333   \n",
       "       14       1.555556  47.652778   59861.111111  2.375000  3.527778   \n",
       "\n",
       "                 private  freepoor  freerepat  nchronic  lchronic  \n",
       "gender reduced                                                     \n",
       "female 0        0.472210  0.030635   0.303282  0.475711  0.098468  \n",
       "       1        0.505263  0.063158   0.126316  0.568421  0.168421  \n",
       "       2        0.545455  0.036364   0.200000  0.527273  0.181818  \n",
       "       3        0.577778  0.066667   0.244444  0.422222  0.222222  \n",
       "       4        0.555556  0.000000   0.259259  0.333333  0.222222  \n",
       "       5        0.444444  0.111111   0.166667  0.555556  0.166667  \n",
       "       6        0.181818  0.000000   0.454545  0.363636  0.272727  \n",
       "       7        0.538462  0.000000   0.230769  0.423077  0.269231  \n",
       "       8        0.181818  0.000000   0.454545  0.363636  0.454545  \n",
       "       9        0.500000  0.000000   0.500000  1.000000  0.000000  \n",
       "       10       0.428571  0.000000   0.428571  0.428571  0.285714  \n",
       "       12       1.000000  0.000000   0.000000  0.500000  0.500000  \n",
       "       13       1.000000  0.000000   0.000000  0.000000  1.000000  \n",
       "       14       0.318966  0.008621   0.517241  0.448276  0.431034  \n",
       "male   0        0.409405  0.054864   0.110650  0.321807  0.088981  \n",
       "       1        0.524390  0.036585   0.036585  0.378049  0.097561  \n",
       "       2        0.433962  0.056604   0.037736  0.301887  0.245283  \n",
       "       3        0.413793  0.103448   0.068966  0.379310  0.137931  \n",
       "       4        0.500000  0.000000   0.000000  0.222222  0.166667  \n",
       "       5        0.500000  0.090909   0.090909  0.318182  0.181818  \n",
       "       6        0.333333  0.000000   0.000000  0.500000  0.333333  \n",
       "       7        0.416667  0.083333   0.083333  0.333333  0.250000  \n",
       "       8        0.333333  0.000000   0.166667  0.333333  0.000000  \n",
       "       9        0.400000  0.200000   0.000000  0.400000  0.200000  \n",
       "       10       0.000000  0.000000   0.400000  0.800000  0.000000  \n",
       "       11       0.500000  0.000000   0.000000  0.000000  0.500000  \n",
       "       12       0.250000  0.000000   0.000000  0.250000  0.000000  \n",
       "       13       0.333333  0.000000   0.333333  1.000000  0.000000  \n",
       "       14       0.402778  0.083333   0.277778  0.291667  0.458333  "
      ]
     },
     "execution_count": 34,
     "metadata": {},
     "output_type": "execute_result"
    }
   ],
   "source": [
    "dataframe.groupby(['gender' , 'reduced']).mean()"
   ]
  },
  {
   "cell_type": "markdown",
   "id": "9171a2d0",
   "metadata": {},
   "source": [
    "###  Find out the correlation between variables in the given dataset "
   ]
  },
  {
   "cell_type": "code",
   "execution_count": 35,
   "id": "41c5356c",
   "metadata": {
    "scrolled": true
   },
   "outputs": [
    {
     "name": "stderr",
     "output_type": "stream",
     "text": [
      "C:\\Users\\shiri\\AppData\\Local\\Temp\\ipykernel_17064\\1841463259.py:2: FutureWarning: The default value of numeric_only in DataFrame.corr is deprecated. In a future version, it will default to False. Select only valid columns or specify the value of numeric_only to silence this warning.\n",
      "  sns.heatmap(dataframe.corr() , cbar = True ,annot = True, cmap='Blues')\n"
     ]
    },
    {
     "data": {
      "text/plain": [
       "<Axes: >"
      ]
     },
     "execution_count": 35,
     "metadata": {},
     "output_type": "execute_result"
    },
    {
     "data": {
      "image/png": "[encoded data removed]",
      "text/plain": [
       "<Figure size 1000x1000 with 2 Axes>"
      ]
     },
     "metadata": {},
     "output_type": "display_data"
    }
   ],
   "source": [
    "plt.figure(figsize =(10,10))\n",
    "sns.heatmap(dataframe.corr() , cbar = True ,annot = True, cmap='Blues')"
   ]
  },
  {
   "cell_type": "markdown",
   "id": "29d229c6",
   "metadata": {},
   "source": [
    "it shows the correlation matrix between the columns of the dataset "
   ]
  },
  {
   "cell_type": "markdown",
   "id": "02d088b4",
   "metadata": {},
   "source": [
    "# Visualization"
   ]
  },
  {
   "cell_type": "markdown",
   "id": "0b71da61",
   "metadata": {},
   "source": [
    "### Analyse how the income of a patient affects the no of visits to the hospital"
   ]
  },
  {
   "cell_type": "code",
   "execution_count": 36,
   "id": "ec393114",
   "metadata": {},
   "outputs": [
    {
     "data": {
      "text/plain": [
       "Text(0.5, 0, 'income ')"
      ]
     },
     "execution_count": 36,
     "metadata": {},
     "output_type": "execute_result"
    },
    {
     "data": {
      "image/png": "[encoded data removed]",
      "text/plain": [
       "<Figure size 1000x1000 with 1 Axes>"
      ]
     },
     "metadata": {},
     "output_type": "display_data"
    }
   ],
   "source": [
    "\n",
    "plt.figure(figsize=(10, 10))\n",
    "plt.scatter(x='income', y='visits', data=dataframe)\n",
    "plt.ylabel('visits')\n",
    "plt.xlabel('income ')\n"
   ]
  },
  {
   "cell_type": "markdown",
   "id": "b2898b0b",
   "metadata": {},
   "source": [
    "### Visualize the percentage of people getting govt health insurance due to low income , due to old age and also the percentage of people having private health insurance"
   ]
  },
  {
   "cell_type": "code",
   "execution_count": 37,
   "id": "ede07415",
   "metadata": {},
   "outputs": [
    {
     "data": {
      "image/png": "[encoded data removed]",
      "text/plain": [
       "<Figure size 640x480 with 1 Axes>"
      ]
     },
     "metadata": {},
     "output_type": "display_data"
    }
   ],
   "source": [
    "\n",
    "# Calculate the percentages\n",
    "total_count = len(dataframe)\n",
    "govt_low_income_count = dataframe[dataframe['reduced'] == 1]['freepoor'].sum()\n",
    "govt_old_age_count = dataframe[dataframe['reduced'] == 1]['freerepat'].sum()\n",
    "private_insurance_count = dataframe['private'].sum()\n",
    "\n",
    "govt_low_income_pct = govt_low_income_count / total_count * 100\n",
    "govt_old_age_pct = govt_old_age_count / total_count * 100\n",
    "private_insurance_pct = private_insurance_count / total_count * 100\n",
    "\n",
    "# Create the stacked bar chart\n",
    "categories = ['Low Income', 'Old Age', 'Private']\n",
    "pcts = [govt_low_income_pct, govt_old_age_pct, private_insurance_pct]\n",
    "colors = ['blue', 'green', 'orange']\n",
    "\n",
    "plt.bar(categories, pcts, color=colors)\n",
    "plt.xlabel('Insurance Types')\n",
    "plt.ylabel('Percentage')\n",
    "plt.title('Percentage of Health Insurance Coverage')\n",
    "\n",
    "# Display the chart\n",
    "plt.show()\n"
   ]
  },
  {
   "cell_type": "markdown",
   "id": "8e016610",
   "metadata": {},
   "source": [
    "\n",
    "\n",
    "### Correlation between Income and Health Status\n"
   ]
  },
  {
   "cell_type": "code",
   "execution_count": 38,
   "id": "52d67387",
   "metadata": {},
   "outputs": [
    {
     "name": "stdout",
     "output_type": "stream",
     "text": [
      "Correlation Coefficient: -0.08579044533031333\n"
     ]
    }
   ],
   "source": [
    "correlation = dataframe['income'].corr(dataframe['health'])\n",
    "print(\"Correlation Coefficient:\", correlation)\n",
    "\n"
   ]
  },
  {
   "cell_type": "markdown",
   "id": "01449209",
   "metadata": {},
   "source": [
    "Based on this result, we can conclude that there is no strong linear relationship between income and health status in the dataset. This means that the income level of individuals in the dataset does not have a strong influence on their reported health status."
   ]
  },
  {
   "cell_type": "markdown",
   "id": "b46b64ae",
   "metadata": {},
   "source": [
    "### the relationship between two categorical variables, such as 'gender' and 'illness', using cross-tabulation."
   ]
  },
  {
   "cell_type": "code",
   "execution_count": 39,
   "id": "2751f75c",
   "metadata": {},
   "outputs": [
    {
     "name": "stdout",
     "output_type": "stream",
     "text": [
      "illness    0    1    2    3    4    5\n",
      "gender                               \n",
      "female   679  834  531  333  167  158\n",
      "male     875  804  415  209  107   78\n"
     ]
    }
   ],
   "source": [
    "crosstab = pd.crosstab(dataframe['gender'], dataframe['illness'])\n",
    "print(crosstab)"
   ]
  },
  {
   "cell_type": "markdown",
   "id": "ceb713b0",
   "metadata": {},
   "source": [
    "### count and visualize the number of males and females affected by illness"
   ]
  },
  {
   "cell_type": "code",
   "execution_count": 40,
   "id": "99c3116d",
   "metadata": {},
   "outputs": [
    {
     "data": {
      "image/png": "[encoded data removed]",
      "text/plain": [
       "<Figure size 640x480 with 1 Axes>"
      ]
     },
     "metadata": {},
     "output_type": "display_data"
    }
   ],
   "source": [
    "\n",
    "\n",
    "sns.countplot(x='gender', data=dataframe)\n",
    "plt.xlabel('Gender')\n",
    "plt.ylabel('Count')\n",
    "plt.title('Distribution of Gender')\n",
    "plt.show()\n",
    "\n"
   ]
  },
  {
   "cell_type": "markdown",
   "id": "f6aa6039",
   "metadata": {},
   "source": [
    "This plot will display the number of individuals in each gender category, providing an overview of the gender distribution in the dataset."
   ]
  },
  {
   "cell_type": "markdown",
   "id": "d5357c62",
   "metadata": {},
   "source": [
    "### Plot a horizantal bar chart to analyze the reduced days of activity due to illness based on the gender"
   ]
  },
  {
   "cell_type": "code",
   "execution_count": 41,
   "id": "083474a4",
   "metadata": {},
   "outputs": [
    {
     "data": {
      "image/png": "[encoded data removed]",
      "text/plain": [
       "<Figure size 640x480 with 1 Axes>"
      ]
     },
     "metadata": {},
     "output_type": "display_data"
    }
   ],
   "source": [
    "db = dataframe.groupby('gender')['reduced'].sum().to_frame().reset_index()\n",
    "plt.barh(db['gender'],db['reduced'],color = ['cornflowerblue','lightseagreen'])\n",
    "plt.title('Bar Chart')\n",
    "plt.xlabel('reduced activity')\n",
    "plt.ylabel('gender')\n",
    "plt.show()"
   ]
  },
  {
   "cell_type": "code",
   "execution_count": 42,
   "id": "b46d5bd3",
   "metadata": {},
   "outputs": [
    {
     "data": {
      "image/png": "[encoded data removed]",
      "text/plain": [
       "<Figure size 640x480 with 1 Axes>"
      ]
     },
     "metadata": {},
     "output_type": "display_data"
    }
   ],
   "source": [
    "plt.hist(dataframe['age'], bins=10, edgecolor='black')\n",
    "plt.xlabel('Age')\n",
    "plt.ylabel('Frequency')\n",
    "plt.title('Distribution of Age')\n",
    "plt.show()\n"
   ]
  },
  {
   "cell_type": "markdown",
   "id": "9e6c5ee9",
   "metadata": {},
   "source": [
    " This histogram will show the frequency or count of individuals in different age groups, providing insights into the age distribution of the dataset."
   ]
  },
  {
   "cell_type": "code",
   "execution_count": 43,
   "id": "01e52b4d",
   "metadata": {},
   "outputs": [
    {
     "data": {
      "image/png": "[encoded data removed]",
      "text/plain": [
       "<Figure size 640x480 with 1 Axes>"
      ]
     },
     "metadata": {},
     "output_type": "display_data"
    }
   ],
   "source": [
    "sns.boxplot(x='gender', y='income', data=dataframe)\n",
    "plt.xlabel('Gender')\n",
    "plt.ylabel('Income')\n",
    "plt.title('Income Distribution by Gender')\n",
    "plt.show()\n"
   ]
  },
  {
   "cell_type": "markdown",
   "id": "f0afdb61",
   "metadata": {},
   "source": [
    "This box plot will show the distribution of income for each gender, including information on median, quartiles, and potential outliers, providing insights into the income differences between genders."
   ]
  },
  {
   "cell_type": "code",
   "execution_count": 44,
   "id": "ddab0cd3",
   "metadata": {},
   "outputs": [
    {
     "data": {
      "image/png": "[encoded data removed]",
      "text/plain": [
       "<Figure size 640x480 with 1 Axes>"
      ]
     },
     "metadata": {},
     "output_type": "display_data"
    }
   ],
   "source": [
    "sns.countplot(x='private', data=dataframe)\n",
    "plt.xlabel('Health Insurance Type')\n",
    "plt.ylabel('Count')\n",
    "plt.title('Distribution of Health Insurance')\n",
    "plt.show()\n"
   ]
  },
  {
   "cell_type": "markdown",
   "id": "2ed4640f",
   "metadata": {},
   "source": [
    "This bar plot will display the count of individuals with health insurance and without health insurance."
   ]
  },
  {
   "cell_type": "code",
   "execution_count": 45,
   "id": "094e889e",
   "metadata": {},
   "outputs": [],
   "source": [
    "\n",
    "def plotPerColumnBox(dataframe):\n",
    "    dataframe = dataframe.select_dtypes(include=np.number)  # Select only numeric columns\n",
    "    nCol = dataframe.shape[1]\n",
    "    columnNames = list(dataframe)\n",
    "    plt.figure(num=None, figsize=(8, 6), dpi=80, facecolor='w', edgecolor='k')\n",
    "    for i in range(nCol):\n",
    "        plt.subplot(1, nCol, i + 1)\n",
    "        columnDf = dataframe.iloc[:, i]\n",
    "        columnDf.plot.box()\n",
    "        plt.ylabel('Value')\n",
    "        plt.title(f'{columnNames[i]} (column {i})')\n",
    "    plt.tight_layout(pad=100.0, w_pad=2.0, h_pad=2.0)  # Adjust the padding values here\n",
    "    plt.show()"
   ]
  },
  {
   "cell_type": "code",
   "execution_count": 46,
   "id": "b98090b6",
   "metadata": {
    "scrolled": true
   },
   "outputs": [
    {
     "name": "stderr",
     "output_type": "stream",
     "text": [
      "C:\\Users\\shiri\\AppData\\Local\\Temp\\ipykernel_17064\\3544176847.py:12: UserWarning: Tight layout not applied. The left and right margins cannot be made large enough to accommodate all axes decorations.\n",
      "  plt.tight_layout(pad=100.0, w_pad=2.0, h_pad=2.0)  # Adjust the padding values here\n"
     ]
    },
    {
     "data": {
      "image/png": "[encoded data removed]",
      "text/plain": [
       "<Figure size 640x480 with 11 Axes>"
      ]
     },
     "metadata": {},
     "output_type": "display_data"
    }
   ],
   "source": [
    "plotPerColumnBox(dataframe)"
   ]
  },
  {
   "cell_type": "markdown",
   "id": "f827ddbb",
   "metadata": {},
   "source": [
    "The function plotPerColumnBox by passing  dataframe as an argument. It will generate box plots for each numeric column in the dataframe, allowing  to visualize the distribution, outliers, and variability of the data in each column.\n",
    "\n",
    "\n",
    "Outliers: Look for individual points or data values that are located far away from the box and whiskers. These points represent potential outliers in the data.\n",
    "\n",
    "Variability: Observe the spread or range of the data. Pay attention to the length of the box (interquartile range, IQR) and the length of the whiskers. A wider spread indicates higher variability in the data.\n",
    "\n",
    "Median and quartiles: Identify the position of the median (middle line within the box) and the quartiles (top and bottom boundaries of the box). These values provide information about the central tendency and spread of the data."
   ]
  },
  {
   "cell_type": "code",
   "execution_count": 47,
   "id": "061f3b8e",
   "metadata": {},
   "outputs": [],
   "source": [
    "import squarify"
   ]
  },
  {
   "cell_type": "code",
   "execution_count": 48,
   "id": "62084551",
   "metadata": {},
   "outputs": [],
   "source": [
    "dataframe['condition'] = dataframe['nchronic'].astype(str) + dataframe['lchronic'].astype(str)\n"
   ]
  },
  {
   "cell_type": "code",
   "execution_count": 49,
   "id": "72fecab1",
   "metadata": {},
   "outputs": [],
   "source": [
    "condition_counts = dataframe['condition'].value_counts()\n"
   ]
  },
  {
   "cell_type": "code",
   "execution_count": 50,
   "id": "3a92f8f6",
   "metadata": {},
   "outputs": [],
   "source": [
    "color_map = {'01': 'red', '10': 'blue', '00': 'green', '11': 'purple'}\n"
   ]
  },
  {
   "cell_type": "code",
   "execution_count": 51,
   "id": "78420048",
   "metadata": {},
   "outputs": [],
   "source": [
    "labels = [f'Condition: {cond}\\nCount: {count}' for cond, count in condition_counts.items()]\n"
   ]
  },
  {
   "cell_type": "code",
   "execution_count": 52,
   "id": "3645b7c1",
   "metadata": {},
   "outputs": [],
   "source": [
    "sizes = condition_counts.values.tolist()\n"
   ]
  },
  {
   "cell_type": "code",
   "execution_count": 53,
   "id": "4c61ed4b",
   "metadata": {},
   "outputs": [
    {
     "data": {
      "image/png": "[encoded data removed]",
      "text/plain": [
       "<Figure size 800x600 with 1 Axes>"
      ]
     },
     "metadata": {},
     "output_type": "display_data"
    }
   ],
   "source": [
    "plt.figure(figsize=(8, 6))\n",
    "squarify.plot(sizes=sizes, label=labels, color=[color_map.get(cond) for cond in condition_counts.index])\n",
    "plt.axis('off')\n",
    "plt.title('Treemap of Index Colored by Conditions')\n",
    "plt.show()\n"
   ]
  },
  {
   "cell_type": "markdown",
   "id": "47d9279b",
   "metadata": {},
   "source": [
    "The treemap visualization highlights the distribution of nchronic and lchronic conditions in the dataset. The majority of instances exhibit either no chronic conditions ('00') or only nchronic condition ('10'). Interestingly, there are no instances with both chronic conditions ('11'), suggesting their absence in the dataset. This insight provides a clear understanding of the prevalence and relationship between the two conditions in the data."
   ]
  },
  {
   "cell_type": "markdown",
   "id": "816e9ad2",
   "metadata": {},
   "source": [
    " ### How the presence of chronic conditions (nchronic and lchronic) vary by gender?"
   ]
  },
  {
   "cell_type": "code",
   "execution_count": 54,
   "id": "7195aba6",
   "metadata": {
    "scrolled": true
   },
   "outputs": [
    {
     "name": "stderr",
     "output_type": "stream",
     "text": [
      "C:\\Users\\shiri\\AppData\\Local\\Temp\\ipykernel_17064\\3085050997.py:2: FutureWarning: Indexing with multiple keys (implicitly converted to a tuple of keys) will be deprecated, use a list instead.\n",
      "  dataframe.groupby('gender')['nchronic', 'lchronic'].sum().plot(kind='bar', color=['purple', 'green'])\n"
     ]
    },
    {
     "data": {
      "text/plain": [
       "<Figure size 800x600 with 0 Axes>"
      ]
     },
     "metadata": {},
     "output_type": "display_data"
    },
    {
     "data": {
      "image/png": "[encoded data removed]",
      "text/plain": [
       "<Figure size 640x480 with 1 Axes>"
      ]
     },
     "metadata": {},
     "output_type": "display_data"
    }
   ],
   "source": [
    "plt.figure(figsize=(8, 6))\n",
    "dataframe.groupby('gender')['nchronic', 'lchronic'].sum().plot(kind='bar', color=['purple', 'green'])\n",
    "plt.xlabel('Gender')\n",
    "plt.ylabel('Count')\n",
    "plt.title('Presence of Chronic Conditions by Gender')\n",
    "plt.legend(['nchronic', 'lchronic'])\n",
    "plt.show()\n"
   ]
  },
  {
   "cell_type": "markdown",
   "id": "e04463ea",
   "metadata": {},
   "source": [
    "### Visualize the distribution of average income_adjusted for each combination of illness and reduced, with separate bars for males and females."
   ]
  },
  {
   "cell_type": "code",
   "execution_count": 55,
   "id": "9f8b38ce",
   "metadata": {},
   "outputs": [
    {
     "name": "stderr",
     "output_type": "stream",
     "text": [
      "C:\\Users\\shiri\\AppData\\Local\\Temp\\ipykernel_17064\\1608669346.py:11: FutureWarning: \n",
      "\n",
      "The `ci` parameter is deprecated. Use `errorbar=None` for the same effect.\n",
      "\n",
      "  sns.barplot(x='illness', y='income', hue='reduced', data=male_avg_income, palette='coolwarm', ci=None)\n"
     ]
    },
    {
     "data": {
      "image/png": "[encoded data removed]",
      "text/plain": [
       "<Figure size 1000x600 with 1 Axes>"
      ]
     },
     "metadata": {},
     "output_type": "display_data"
    },
    {
     "name": "stderr",
     "output_type": "stream",
     "text": [
      "C:\\Users\\shiri\\AppData\\Local\\Temp\\ipykernel_17064\\1608669346.py:19: FutureWarning: \n",
      "\n",
      "The `ci` parameter is deprecated. Use `errorbar=None` for the same effect.\n",
      "\n",
      "  sns.barplot(x='illness', y='income', hue='reduced', data=female_avg_income, palette='coolwarm', ci=None)\n"
     ]
    },
    {
     "data": {
      "image/png": "[encoded data removed]",
      "text/plain": [
       "<Figure size 1000x600 with 1 Axes>"
      ]
     },
     "metadata": {},
     "output_type": "display_data"
    }
   ],
   "source": [
    "\n",
    "# Filter dataframe for males and females separately\n",
    "male_df = dataframe[dataframe['gender'] == 'male']\n",
    "female_df = dataframe[dataframe['gender'] == 'female']\n",
    "\n",
    "# Group and calculate the average income_adjusted for each combination of illness and reduced\n",
    "male_avg_income = male_df.groupby(['illness', 'reduced'])['income'].mean().reset_index()\n",
    "female_avg_income = female_df.groupby(['illness', 'reduced'])['income'].mean().reset_index()\n",
    "\n",
    "# Plot the bar chart\n",
    "plt.figure(figsize=(10, 6))\n",
    "sns.barplot(x='illness', y='income', hue='reduced', data=male_avg_income, palette='coolwarm', ci=None)\n",
    "plt.xlabel('Illness')\n",
    "plt.ylabel('Average income_adjusted')\n",
    "plt.title('Average income_adjusted by Illness and Reduced (Males)')\n",
    "plt.legend(title='Reduced')\n",
    "plt.show()\n",
    "\n",
    "plt.figure(figsize=(10, 6))\n",
    "sns.barplot(x='illness', y='income', hue='reduced', data=female_avg_income, palette='coolwarm', ci=None)\n",
    "plt.xlabel('Illness')\n",
    "plt.ylabel('Average income_adjusted')\n",
    "plt.title('Average income_adjusted by Illness and Reduced (Females)')\n",
    "plt.legend(title='Reduced')\n",
    "plt.show()\n"
   ]
  },
  {
   "cell_type": "markdown",
   "id": "a68d22c4",
   "metadata": {},
   "source": [
    "For males, it can be observed that the average income_adjusted varies across different illness and reduced combinations. Certain combinations, such as illness 2 and reduced 9, tend to have higher average income_adjusted, while others show lower values.\n",
    "\n",
    "Similarly, for females, the distribution of average income_adjusted also varies based on illness and reduced status. Different combinations exhibit different income levels, highlighting the influence of these factors on the average income_adjusted.\n",
    "\n",
    "These visualizations provide insights into the relationship between illness, reduced status, and average income_adjusted for both males and females.\n"
   ]
  },
  {
   "cell_type": "markdown",
   "id": "f9ec5c10",
   "metadata": {},
   "source": [
    "#### visualizing  the distribution of health insurance providers using pie chart"
   ]
  },
  {
   "cell_type": "code",
   "execution_count": 56,
   "id": "bef05f6a",
   "metadata": {},
   "outputs": [
    {
     "data": {
      "image/png": "[encoded data removed]",
      "text/plain": [
       "<Figure size 640x480 with 1 Axes>"
      ]
     },
     "metadata": {},
     "output_type": "display_data"
    }
   ],
   "source": [
    "\n",
    "\n",
    "# Calculate the percentage of people with government health insurance due to low income\n",
    "govt_insurance_percentage = (dataframe[dataframe['income'] < 0.5]['freepoor'].sum() / len(dataframe[dataframe['income'] < 0.5])) * 100\n",
    "\n",
    "# Calculate the percentage of people with government health insurance due to old age\n",
    "private_insurance_percentage = (dataframe[dataframe['age'] >= 65]['private'].sum() / len(dataframe[dataframe['age'] >= 65])) * 100\n",
    "\n",
    "# Calculate the percentage of people with private health insurance\n",
    "private_insurance_percentage = (dataframe['private'].sum() / len(dataframe)) * 100\n",
    "\n",
    "# Create a pie chart to visualize the distribution of health insurance providers\n",
    "labels = ['Government Insurance (Low Income)', 'Government Insurance (Old Age)', 'Private Insurance']\n",
    "sizes = [govt_insurance_percentage, private_insurance_percentage, private_insurance_percentage]\n",
    "colors = ['#ff9999', '#66b3ff', '#99ff99']\n",
    "\n",
    "plt.pie(sizes, labels=labels, colors=colors, autopct='%1.1f%%', startangle=90)\n",
    "plt.axis('equal')\n",
    "plt.title('Distribution of Health Insurance Providers')\n",
    "plt.show()\n"
   ]
  },
  {
   "cell_type": "markdown",
   "id": "3759ea18",
   "metadata": {},
   "source": [
    "This analysis can be useful for health insurance providers to understand the composition of their insured population and identify the proportion of individuals covered under different insurance schemes. Based on these insights, health insurance providers can tailor their offerings, develop targeted marketing strategies, and identify areas for potential expansion or improvement in their coverage plans."
   ]
  },
  {
   "cell_type": "code",
   "execution_count": 57,
   "id": "af473a92",
   "metadata": {},
   "outputs": [
    {
     "data": {
      "text/html": [
       "<div>\n",
       "<style scoped>\n",
       "    .dataframe tbody tr th:only-of-type {\n",
       "        vertical-align: middle;\n",
       "    }\n",
       "\n",
       "    .dataframe tbody tr th {\n",
       "        vertical-align: top;\n",
       "    }\n",
       "\n",
       "    .dataframe thead th {\n",
       "        text-align: right;\n",
       "    }\n",
       "</style>\n",
       "<table border=\"1\" class=\"dataframe\">\n",
       "  <thead>\n",
       "    <tr style=\"text-align: right;\">\n",
       "      <th></th>\n",
       "      <th>visits</th>\n",
       "      <th>gender</th>\n",
       "      <th>age</th>\n",
       "      <th>income</th>\n",
       "      <th>illness</th>\n",
       "      <th>reduced</th>\n",
       "      <th>health</th>\n",
       "      <th>private</th>\n",
       "      <th>freepoor</th>\n",
       "      <th>freerepat</th>\n",
       "      <th>nchronic</th>\n",
       "      <th>lchronic</th>\n",
       "      <th>condition</th>\n",
       "    </tr>\n",
       "  </thead>\n",
       "  <tbody>\n",
       "    <tr>\n",
       "      <th>0</th>\n",
       "      <td>1</td>\n",
       "      <td>female</td>\n",
       "      <td>19</td>\n",
       "      <td>55000.0</td>\n",
       "      <td>1</td>\n",
       "      <td>4</td>\n",
       "      <td>1</td>\n",
       "      <td>1</td>\n",
       "      <td>0</td>\n",
       "      <td>0</td>\n",
       "      <td>0</td>\n",
       "      <td>0</td>\n",
       "      <td>00</td>\n",
       "    </tr>\n",
       "    <tr>\n",
       "      <th>1</th>\n",
       "      <td>1</td>\n",
       "      <td>female</td>\n",
       "      <td>19</td>\n",
       "      <td>45000.0</td>\n",
       "      <td>1</td>\n",
       "      <td>2</td>\n",
       "      <td>1</td>\n",
       "      <td>1</td>\n",
       "      <td>0</td>\n",
       "      <td>0</td>\n",
       "      <td>0</td>\n",
       "      <td>0</td>\n",
       "      <td>00</td>\n",
       "    </tr>\n",
       "    <tr>\n",
       "      <th>2</th>\n",
       "      <td>1</td>\n",
       "      <td>male</td>\n",
       "      <td>19</td>\n",
       "      <td>90000.0</td>\n",
       "      <td>3</td>\n",
       "      <td>0</td>\n",
       "      <td>0</td>\n",
       "      <td>0</td>\n",
       "      <td>0</td>\n",
       "      <td>0</td>\n",
       "      <td>0</td>\n",
       "      <td>0</td>\n",
       "      <td>00</td>\n",
       "    </tr>\n",
       "    <tr>\n",
       "      <th>3</th>\n",
       "      <td>1</td>\n",
       "      <td>male</td>\n",
       "      <td>19</td>\n",
       "      <td>15000.0</td>\n",
       "      <td>1</td>\n",
       "      <td>0</td>\n",
       "      <td>0</td>\n",
       "      <td>0</td>\n",
       "      <td>0</td>\n",
       "      <td>0</td>\n",
       "      <td>0</td>\n",
       "      <td>0</td>\n",
       "      <td>00</td>\n",
       "    </tr>\n",
       "    <tr>\n",
       "      <th>4</th>\n",
       "      <td>1</td>\n",
       "      <td>male</td>\n",
       "      <td>19</td>\n",
       "      <td>45000.0</td>\n",
       "      <td>2</td>\n",
       "      <td>5</td>\n",
       "      <td>1</td>\n",
       "      <td>0</td>\n",
       "      <td>0</td>\n",
       "      <td>0</td>\n",
       "      <td>1</td>\n",
       "      <td>0</td>\n",
       "      <td>10</td>\n",
       "    </tr>\n",
       "  </tbody>\n",
       "</table>\n",
       "</div>"
      ],
      "text/plain": [
       "   visits  gender  age   income  illness  reduced  health  private  freepoor  \\\n",
       "0       1  female   19  55000.0        1        4       1        1         0   \n",
       "1       1  female   19  45000.0        1        2       1        1         0   \n",
       "2       1    male   19  90000.0        3        0       0        0         0   \n",
       "3       1    male   19  15000.0        1        0       0        0         0   \n",
       "4       1    male   19  45000.0        2        5       1        0         0   \n",
       "\n",
       "   freerepat  nchronic  lchronic condition  \n",
       "0          0         0         0        00  \n",
       "1          0         0         0        00  \n",
       "2          0         0         0        00  \n",
       "3          0         0         0        00  \n",
       "4          0         1         0        10  "
      ]
     },
     "execution_count": 57,
     "metadata": {},
     "output_type": "execute_result"
    }
   ],
   "source": [
    "dataframe.head()"
   ]
  },
  {
   "cell_type": "markdown",
   "id": "d5785fd9",
   "metadata": {},
   "source": [
    "### Distribution of Health insurance Provider"
   ]
  },
  {
   "cell_type": "code",
   "execution_count": 58,
   "id": "860707ef",
   "metadata": {},
   "outputs": [
    {
     "data": {
      "image/png": "[encoded data removed]",
      "text/plain": [
       "<Figure size 640x480 with 1 Axes>"
      ]
     },
     "metadata": {},
     "output_type": "display_data"
    }
   ],
   "source": [
    "\n",
    "\n",
    "# Group the data by health insurance provider and count the number of occurrences\n",
    "insurance_counts = dataframe['health'].value_counts()\n",
    "\n",
    "# Create a bar chart to visualize the distribution of health insurance providers\n",
    "plt.bar(insurance_counts.index, insurance_counts.values)\n",
    "plt.xlabel('Health Insurance Provider')\n",
    "plt.ylabel('Count')\n",
    "plt.title('Distribution of Health Insurance Providers')\n",
    "plt.show()\n"
   ]
  },
  {
   "cell_type": "code",
   "execution_count": 59,
   "id": "4b676809",
   "metadata": {},
   "outputs": [
    {
     "name": "stderr",
     "output_type": "stream",
     "text": [
      "C:\\Users\\shiri\\anaconda3\\lib\\site-packages\\sklearn\\preprocessing\\_encoders.py:828: FutureWarning: `sparse` was renamed to `sparse_output` in version 1.2 and will be removed in 1.4. `sparse_output` is ignored unless you leave `sparse` to its default value.\n",
      "  warnings.warn(\n"
     ]
    },
    {
     "name": "stdout",
     "output_type": "stream",
     "text": [
      "Linear Regression:\n",
      "Mean Squared Error: 0.8466565108607611\n",
      "R-squared: 0.04248554615995803\n",
      "\n",
      "Decision Tree Regression:\n",
      "Mean Squared Error: 1.3315234368728834\n",
      "R-squared: -0.5058679878766443\n",
      "\n",
      "Random Forest Regression:\n",
      "Mean Squared Error: 1.0037977224563122\n",
      "R-squared: -0.1352311305165197\n"
     ]
    }
   ],
   "source": [
    "# Select relevant features and target variable\n",
    "features = ['age', 'income', 'health', 'nchronic', 'lchronic', 'private']\n",
    "target = 'visits'\n",
    "\n",
    "# Encode categorical variables\n",
    "encoder = OneHotEncoder(sparse=False)\n",
    "gender_encoded = encoder.fit_transform(dataframe[['gender']])\n",
    "gender_encoded_df = pd.DataFrame(gender_encoded, columns=['gender_'+cat for cat in encoder.categories_[0]])\n",
    "dataframe_encoded = pd.concat([dataframe[features], gender_encoded_df], axis=1)\n",
    "\n",
    "# Split the data into training and testing sets\n",
    "X_train, X_test, y_train, y_test = train_test_split(dataframe_encoded, dataframe[target], test_size=0.2, random_state=42)\n",
    "\n",
    "# Define and train a Linear Regression model\n",
    "linear_model = LinearRegression()\n",
    "linear_model.fit(X_train, y_train)\n",
    "\n",
    "# Make predictions on the test set using the Linear Regression model\n",
    "linear_predictions = linear_model.predict(X_test)\n",
    "\n",
    "# Evaluate the Linear Regression model\n",
    "linear_mse = mean_squared_error(y_test, linear_predictions)\n",
    "linear_r2 = r2_score(y_test, linear_predictions)\n",
    "\n",
    "# Define and train a Decision Tree Regression model\n",
    "tree_model = DecisionTreeRegressor()\n",
    "tree_model.fit(X_train, y_train)\n",
    "\n",
    "# Make predictions on the test set using the Decision Tree Regression model\n",
    "tree_predictions = tree_model.predict(X_test)\n",
    "\n",
    "# Evaluate the Decision Tree Regression model\n",
    "tree_mse = mean_squared_error(y_test, tree_predictions)\n",
    "tree_r2 = r2_score(y_test, tree_predictions)\n",
    "\n",
    "# Define and train a Random Forest Regression model\n",
    "forest_model = RandomForestRegressor()\n",
    "forest_model.fit(X_train, y_train)\n",
    "\n",
    "# Make predictions on the test set using the Random Forest Regression model\n",
    "forest_predictions = forest_model.predict(X_test)\n",
    "\n",
    "# Evaluate the Random Forest Regression model\n",
    "forest_mse = mean_squared_error(y_test, forest_predictions)\n",
    "forest_r2 = r2_score(y_test, forest_predictions)\n",
    "\n",
    "# Print the evaluation results\n",
    "print(\"Linear Regression:\")\n",
    "print(\"Mean Squared Error:\", linear_mse)\n",
    "print(\"R-squared:\", linear_r2)\n",
    "print()\n",
    "\n",
    "print(\"Decision Tree Regression:\")\n",
    "print(\"Mean Squared Error:\", tree_mse)\n",
    "print(\"R-squared:\", tree_r2)\n",
    "print()\n",
    "\n",
    "print(\"Random Forest Regression:\")\n",
    "print(\"Mean Squared Error:\", forest_mse)\n",
    "print(\"R-squared:\", forest_r2)"
   ]
  },
  {
   "cell_type": "markdown",
   "id": "e4af9524",
   "metadata": {},
   "source": [
    "Based on the results of the machine learning models for the doctor visit analysis:\n",
    "\n",
    "Linear Regression:\n",
    "\n",
    "Mean Squared Error: 0.847\n",
    "R-squared: 0.042\n",
    "The Linear Regression model performs poorly with a high MSE and a very low R-squared value. It indicates that the linear relationship between the features and the target variable is weak, and the model does not capture the variability in the data well.\n",
    "Decision Tree Regression:\n",
    "\n",
    "Mean Squared Error: 1.469\n",
    "R-squared: -0.662\n",
    "The Decision Tree Regression model performs even worse with a higher MSE and a negative R-squared value. It suggests that the model is overfitting and unable to generalize well to unseen data.\n",
    "Random Forest Regression:\n",
    "\n",
    "Mean Squared Error: 1.008\n",
    "R-squared: -0.140\n",
    "The Random Forest Regression model also exhibits poor performance with a relatively high MSE and a negative R-squared value. It implies that the ensemble model of decision trees fails to capture the underlying patterns in the data.\n",
    "Overall, the models' performance indicates that the selected features may not have a strong linear relationship with the target variable, and more sophisticated modeling techniques or feature engineering might be required to improve the predictions."
   ]
  },
  {
   "cell_type": "code",
   "execution_count": 60,
   "id": "135ca6df",
   "metadata": {},
   "outputs": [
    {
     "name": "stdout",
     "output_type": "stream",
     "text": [
      "Mean Squared Error: 0.7482130947295426\n",
      "R-squared: 0.15381876408466322\n"
     ]
    }
   ],
   "source": [
    "from sklearn.ensemble import GradientBoostingRegressor\n",
    "from sklearn.metrics import mean_squared_error, r2_score\n",
    "\n",
    "from sklearn.preprocessing import LabelEncoder\n",
    "\n",
    "# Copy the dataframe to avoid modifying the original data\n",
    "dataframe_encoded = dataframe.copy()\n",
    "\n",
    "# Encode categorical variables\n",
    "label_encoder = LabelEncoder()\n",
    "dataframe_encoded['gender'] = label_encoder.fit_transform(dataframe_encoded['gender'])\n",
    "dataframe_encoded['condition'] = label_encoder.fit_transform(dataframe_encoded['condition'])\n",
    "\n",
    "# Split the data into features (X) and target variable (y)\n",
    "X = dataframe_encoded.drop(['visits'], axis=1)\n",
    "y = dataframe_encoded['visits']\n",
    "\n",
    "# Split the data into training and testing sets\n",
    "X_train, X_test, y_train, y_test = train_test_split(X, y, test_size=0.2, random_state=42)\n",
    "\n",
    "# Initialize the Gradient Boosting Regressor\n",
    "gb_model = GradientBoostingRegressor()\n",
    "\n",
    "# Fit the model to the training data\n",
    "gb_model.fit(X_train, y_train)\n",
    "\n",
    "# Make predictions on the test set\n",
    "gb_predictions = gb_model.predict(X_test)\n",
    "\n",
    "# Evaluate the model\n",
    "mse = mean_squared_error(y_test, gb_predictions)\n",
    "r2 = r2_score(y_test, gb_predictions)\n",
    "\n",
    "# Print the evaluation metrics\n",
    "print(\"Mean Squared Error:\", mse)\n",
    "print(\"R-squared:\", r2)\n"
   ]
  },
  {
   "cell_type": "markdown",
   "id": "d989734a",
   "metadata": {},
   "source": [
    "The Gradient Boosting Regression model achieved a Mean Squared Error (MSE) of 0.748 and an R-squared value of 0.154. This means that, on average, the model's predictions were close to the actual values of the target variable. The R-squared value of 0.154 indicates that the model explained about 15.4% of the variability in the target variable, showing a moderate level of predictive power."
   ]
  },
  {
   "cell_type": "markdown",
   "id": "aa522916",
   "metadata": {},
   "source": []
  }
 ],
 "metadata": {
  "kernelspec": {
   "display_name": "Python 3 (ipykernel)",
   "language": "python",
   "name": "python3"
  },
  "language_info": {
   "codemirror_mode": {
    "name": "ipython",
    "version": 3
   },
   "file_extension": ".py",
   "mimetype": "text/x-python",
   "name": "python",
   "nbconvert_exporter": "python",
   "pygments_lexer": "ipython3",
   "version": "3.10.9"
  }
 },
 "nbformat": 4,
 "nbformat_minor": 5
}
